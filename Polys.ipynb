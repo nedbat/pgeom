{
 "cells": [
  {
   "cell_type": "code",
   "execution_count": 1,
   "metadata": {},
   "outputs": [],
   "source": [
    "from polys import *\n",
    "from pprint import pprint as pp\n",
    "\n",
    "with open(\"netlib/icosahedron.netlib\") as dat:\n",
    "    icosa = read_netlib(dat)\n",
    "with open(\"../polyhedra/netlib_polyhedra/p3.txt\") as dat:\n",
    "    dodeca = read_netlib(dat)\n",
    "with open(\"../polyhedra/netlib_polyhedra/p0.txt\") as dat:\n",
    "    tetra = read_netlib(dat)\n",
    "netlib = []\n",
    "for i in range(142):\n",
    "    with open(f\"../polyhedra/netlib_polyhedra/p{i}.txt\") as dat:\n",
    "        netlib.append(read_netlib(dat))"
   ]
  },
  {
   "cell_type": "code",
   "execution_count": 9,
   "metadata": {},
   "outputs": [
    {
     "name": "stdout",
     "output_type": "stream",
     "text": [
      "0: tetrahedron\n",
      "1: cube\n",
      "2: octahedron\n",
      "3: dodecahedron\n",
      "4: icosahedron\n",
      "5: small stellated dodecahedron\n",
      "6: great dodecahedron\n",
      "7: great stellated dodecahedron\n",
      "8: great icosahedron\n",
      "9: truncated tetrahedron\n",
      "10: cuboctahedron\n",
      "11: truncated cube\n",
      "12: truncated octahedron\n",
      "13: rhombicuboctahedron\n",
      "14: great rhombicuboctahedron\n",
      "15: snub cube (laevo)\n",
      "16: icosidodecahedron\n",
      "17: truncated dodecahedron\n",
      "18: truncated icosahedron\n",
      "19: rhombicosidodecahedron\n",
      "20: great rhombicosidodecahedron\n",
      "21: snub dodecahedron (laevo)\n",
      "22: triangular prism\n",
      "23: pentagonal prism\n",
      "24: hexagonal prism\n",
      "25: octagonal prism\n",
      "26: decagonal prism\n",
      "27: square antiprism\n",
      "28: pentagonal antiprism\n",
      "29: hexagonal antiprism\n",
      "30: octagonal antiprism\n",
      "31: decagonal antiprism\n",
      "32: triakis tetrahedron\n",
      "33: rhombic dodecahedron\n",
      "34: triakis octahedron\n",
      "35: tetrakis hexahedron\n",
      "36: trapezoidal icositetrahedron\n",
      "37: hexakis octahedron\n",
      "38: pentagonal icositetrahedron (dextro)\n",
      "39: rhombic triacontahedron\n",
      "40: triakis icosahedron\n",
      "41: pentakis dodecahedron\n",
      "42: trapezoidal hexecontahedron\n",
      "43: hexakis icosahedron\n",
      "44: pentagonal hexecontahedron (dextro)\n",
      "45: square pyramid (J1)\n",
      "46: pentagonal pyramid (J2)\n",
      "47: triangular cupola (J3)\n",
      "48: square cupola (J4)\n",
      "49: pentagonal cupola (J5)\n",
      "50: pentagonal rotunda (J6)\n",
      "51: elongated triangular pyramid (J7)\n",
      "52: elongated square pyramid (J8)\n",
      "53: elongated pentagonal pyramid (J9)\n",
      "54: gyroelongated square pyramid (J10)\n",
      "55: gyroelongated pentagonal pyramid (J11)\n",
      "56: triangular dipyramid (J12)\n",
      "57: pentagonal dipyramid (J13)\n",
      "58: elongated triangular dipyramid (J14)\n",
      "59: elongated square dipyramid (J15)\n",
      "60: elongated pentagonal dipyramid (J16)\n",
      "61: gyroelongated square dipyramid (J17)\n",
      "62: elongated triangular cupola (J18)\n",
      "63: elongated square cupola (J19)\n",
      "64: elongated pentagonal cupola (J20)\n",
      "65: elongated pentagonal rotunds (J21)\n",
      "66: gyroelongated triangular cupola (J22)\n",
      "67: gyroelongated square cupola (J23)\n",
      "68: gyroelongated pentagonal cupola (J24)\n",
      "69: gyroelongated pentagonal rotunda (J25)\n",
      "70: gyrobifastigium (J26)\n",
      "71: triangular orthobicupola (J27)\n",
      "72: square orthobicupola (J28)\n",
      "73: square gyrobicupola (J29)\n",
      "74: pentagonal orthobicupola (J30)\n",
      "75: pentagonal gyrobicupola (J31)\n",
      "76: pentagonal orthocupolarontunda (J32)\n",
      "77: pentagonal gyrocupolarotunda (J33)\n",
      "78: pentagonal orthobirotunda (J34)\n",
      "79: elongated triangular orthobicupola (J35)\n",
      "80: elongated triangular gyrobicupola (J36)\n",
      "81: elongated square gyrobicupola (J37)\n",
      "82: elongated pentagonal orthobicupola (J38)\n",
      "83: elongated pentagonal gyrobicupola (J39)\n",
      "84: elongated pentagonal orthocupolarotunda (J40)\n",
      "85: elongated pentagonal gyrocupolarotunda (J41)\n",
      "86: elongated pentagonal orthobirotunda (J42)\n",
      "87: elongated pentagonal gyrobirotunda (J43)\n",
      "88: gyroelongated triangular bicupola (J44)\n",
      "89: gyroelongated square bicupola (J45)\n",
      "90: gyroelongated pentagonal bicupola (J46)\n",
      "91: gyroelongated pentagonal cupolarotunda (J47)\n",
      "92: gyroelongated pentagonal birotunda (J48)\n",
      "93: augmented triangular prism (J49)\n",
      "94: biaugmented triangular prism (J50)\n",
      "95: triaugmented triangular prism (J51)\n",
      "96: augmented pentagonal prism (J52)\n",
      "97: biaugmented pentagonal prism (J53)\n",
      "98: augmented hexagonal prism (J54)\n",
      "99: parabiaugmented hexagonal prism (J55)\n",
      "100: metabiaugmented hexagonal prism (J56)\n",
      "101: triaugmented hexagonal prism (J57)\n",
      "102: augmented dodecahedron (J58)\n",
      "103: parabiaugmented dodecahedron (J59)\n",
      "104: metabiaugmented dodecahedron (J60)\n",
      "105: triaugmented dodecahedron (J61)\n",
      "106: metabidiminished icosahedron (J62)\n",
      "107: tridiminished icosahedron (J63)\n",
      "108: augmented tridiminished icosahedron (J64)\n",
      "109: augmented truncated tetrahedron (J65)\n",
      "110: augmented truncated cube (J66)\n",
      "111: biaugmented truncated cube (J67)\n",
      "112: augmented truncated dodecahedron (J68)\n",
      "113: parabiaugmented truncated dodecahedron (J69)\n",
      "114: metabiaugmented truncated dodecahedron (J70)\n",
      "115: triaugmented truncated dodecahedron (J71)\n",
      "116: gyrate rhombicosidodecahedron (J72)\n",
      "117: parabigyrate rhombicosidodecahedron (J73)\n",
      "118: metabigyrate rhombicosidodecahedron (J74)\n",
      "119: trigyrate rhombicosidodecahedron (J75)\n",
      "120: diminished rhombicosidodecahedron (J76)\n",
      "121: paragyrate diminished rhombicosidodecahedron (J77)\n",
      "122: metagyrate diminished rhombicosidodecahedron (J78)\n",
      "123: bigyrate diminished rhombicosidodecahedron (J79)\n",
      "124: parabidiminished rhombicosidodecahedron (J80)\n",
      "125: metabidiminished rhombicosidodecahedron (J81)\n",
      "126: gyrate bidiminished rhombicosidodecahedron (J82)\n",
      "127: tridiminished rhombicosidodecahedron (J83)\n",
      "128: snub disphenoid (J84)\n",
      "129: snub square antiprism (J85)\n",
      "130: sphenocorona (J86)\n",
      "131: augmented sphenocorona (J87)\n",
      "132: sphenomegacorona (J88)\n",
      "133: hebesphenomegacorona (J89)\n",
      "134: disphenocingulum (J90)\n",
      "135: bilunabirotunda (J91)\n",
      "136: triangular hebesphenorotunda (J92)\n",
      "137: tetrahemihexahedron\n",
      "138: octahemioctahedron\n",
      "139: small ditrigonal icosidodecahedron\n",
      "140: dodecadodecahedron\n",
      "141: echidnahedron\n"
     ]
    }
   ],
   "source": [
    "if 1:\n",
    "    for i in range(142):\n",
    "        with open(f\"../polyhedra/netlib_polyhedra/p{i}.txt\") as dat:\n",
    "            poly = read_netlib(dat)\n",
    "            print(f\"{i}: {poly.name}\")\n",
    "            #wire_frame(sit_polyhedron(poly), width=100, height=100, debug_origin=True)"
   ]
  },
  {
   "cell_type": "code",
   "execution_count": 13,
   "metadata": {},
   "outputs": [
    {
     "data": {
      "image/svg+xml": [
       "<svg height=\"200pt\" version=\"1.1\" viewBox=\"0 0 200 200\" width=\"200pt\" xmlns=\"http://www.w3.org/2000/svg\" xmlns:xlink=\"http://www.w3.org/1999/xlink\">\n",
       "<g id=\"surface116\">\n",
       "<path d=\"M 4.939044 -0.439187 L 5.878828 -0.287036 \" style=\"fill:none;stroke-width:0.02;stroke-linecap:round;stroke-linejoin:miter;stroke:rgb(0%,0%,0%);stroke-opacity:1;stroke-miterlimit:10;\" transform=\"matrix(89.806237,0,0,89.806237,-390.58043,69.613601)\"/>\n",
       "<path d=\"M 4.534745 0.45088 L 5.158266 0.355971 \" style=\"fill:none;stroke-width:0.02;stroke-linecap:round;stroke-linejoin:miter;stroke:rgb(0%,0%,0%);stroke-opacity:1;stroke-miterlimit:10;\" transform=\"matrix(89.806237,0,0,89.806237,-390.58043,69.613601)\"/>\n",
       "<path d=\"M 5.158266 0.355971 L 4.939044 -0.439187 \" style=\"fill:none;stroke-width:0.02;stroke-linecap:round;stroke-linejoin:miter;stroke:rgb(0%,0%,0%);stroke-opacity:1;stroke-miterlimit:10;\" transform=\"matrix(89.806237,0,0,89.806237,-390.58043,69.613601)\"/>\n",
       "<path d=\"M 5.878828 -0.287036 L 6.055337 0.697027 \" style=\"fill:none;stroke-width:0.02;stroke-linecap:round;stroke-linejoin:miter;stroke:rgb(0%,0%,0%);stroke-opacity:1;stroke-miterlimit:10;\" transform=\"matrix(89.806237,0,0,89.806237,-390.58043,69.613601)\"/>\n",
       "<path d=\"M 5.046481 0.850525 L 5.224642 1.153087 \" style=\"fill:none;stroke-width:0.02;stroke-linecap:round;stroke-linejoin:miter;stroke:rgb(0%,0%,0%);stroke-opacity:1;stroke-miterlimit:10;\" transform=\"matrix(89.806237,0,0,89.806237,-390.58043,69.613601)\"/>\n",
       "<path d=\"M 5.767042 0.207518 L 5.986264 1.002676 \" style=\"fill:none;stroke-width:0.02;stroke-linecap:round;stroke-linejoin:miter;stroke:rgb(0%,0%,0%);stroke-opacity:1;stroke-miterlimit:10;\" transform=\"matrix(89.806237,0,0,89.806237,-390.58043,69.613601)\"/>\n",
       "<path d=\"M 6.055337 0.697027 L 6.390564 0.112652 \" style=\"fill:none;stroke-width:0.02;stroke-linecap:round;stroke-linejoin:miter;stroke:rgb(0%,0%,0%);stroke-opacity:1;stroke-miterlimit:10;\" transform=\"matrix(89.806237,0,0,89.806237,-390.58043,69.613601)\"/>\n",
       "<path d=\"M 5.158266 0.355971 L 5.878828 -0.287036 \" style=\"fill:none;stroke-width:0.02;stroke-linecap:round;stroke-linejoin:miter;stroke:rgb(0%,0%,0%);stroke-opacity:1;stroke-miterlimit:10;\" transform=\"matrix(89.806237,0,0,89.806237,-390.58043,69.613601)\"/>\n",
       "<path d=\"M 5.700667 -0.589554 L 4.869972 -0.133538 \" style=\"fill:none;stroke-width:0.02;stroke-linecap:round;stroke-linejoin:miter;stroke:rgb(0%,0%,0%);stroke-opacity:1;stroke-miterlimit:10;\" transform=\"matrix(89.806237,0,0,89.806237,-390.58043,69.613601)\"/>\n",
       "<path d=\"M 5.046481 0.850525 L 4.869972 -0.133538 \" style=\"fill:none;stroke-width:0.02;stroke-linecap:round;stroke-linejoin:miter;stroke:rgb(0%,0%,0%);stroke-opacity:1;stroke-miterlimit:10;\" transform=\"matrix(89.806237,0,0,89.806237,-390.58043,69.613601)\"/>\n",
       "<path d=\"M 6.390564 0.112652 L 5.767042 0.207518 \" style=\"fill:none;stroke-width:0.02;stroke-linecap:round;stroke-linejoin:miter;stroke:rgb(0%,0%,0%);stroke-opacity:1;stroke-miterlimit:10;\" transform=\"matrix(89.806237,0,0,89.806237,-390.58043,69.613601)\"/>\n",
       "<path d=\"M 4.869972 -0.133538 L 4.534745 0.45088 \" style=\"fill:none;stroke-width:0.02;stroke-linecap:round;stroke-linejoin:miter;stroke:rgb(0%,0%,0%);stroke-opacity:1;stroke-miterlimit:10;\" transform=\"matrix(89.806237,0,0,89.806237,-390.58043,69.613601)\"/>\n",
       "<path d=\"M 6.390564 0.112652 L 5.878828 -0.287036 \" style=\"fill:none;stroke-width:0.02;stroke-linecap:round;stroke-linejoin:miter;stroke:rgb(0%,0%,0%);stroke-opacity:1;stroke-miterlimit:10;\" transform=\"matrix(89.806237,0,0,89.806237,-390.58043,69.613601)\"/>\n",
       "<path d=\"M 5.767042 0.207518 L 5.700667 -0.589554 \" style=\"fill:none;stroke-width:0.02;stroke-linecap:round;stroke-linejoin:miter;stroke:rgb(0%,0%,0%);stroke-opacity:1;stroke-miterlimit:10;\" transform=\"matrix(89.806237,0,0,89.806237,-390.58043,69.613601)\"/>\n",
       "<path d=\"M 5.878828 -0.287036 L 5.700667 -0.589554 \" style=\"fill:none;stroke-width:0.02;stroke-linecap:round;stroke-linejoin:miter;stroke:rgb(0%,0%,0%);stroke-opacity:1;stroke-miterlimit:10;\" transform=\"matrix(89.806237,0,0,89.806237,-390.58043,69.613601)\"/>\n",
       "<path d=\"M 5.224642 1.153087 L 5.986264 1.002676 \" style=\"fill:none;stroke-width:0.02;stroke-linecap:round;stroke-linejoin:miter;stroke:rgb(0%,0%,0%);stroke-opacity:1;stroke-miterlimit:10;\" transform=\"matrix(89.806237,0,0,89.806237,-390.58043,69.613601)\"/>\n",
       "<path d=\"M 5.767042 0.207518 L 5.046481 0.850525 \" style=\"fill:none;stroke-width:0.02;stroke-linecap:round;stroke-linejoin:miter;stroke:rgb(0%,0%,0%);stroke-opacity:1;stroke-miterlimit:10;\" transform=\"matrix(89.806237,0,0,89.806237,-390.58043,69.613601)\"/>\n",
       "<path d=\"M 4.939044 -0.439187 L 4.869972 -0.133538 \" style=\"fill:none;stroke-width:0.02;stroke-linecap:round;stroke-linejoin:miter;stroke:rgb(0%,0%,0%);stroke-opacity:1;stroke-miterlimit:10;\" transform=\"matrix(89.806237,0,0,89.806237,-390.58043,69.613601)\"/>\n",
       "<path d=\"M 6.055337 0.697027 L 5.158266 0.355971 \" style=\"fill:none;stroke-width:0.02;stroke-linecap:round;stroke-linejoin:miter;stroke:rgb(0%,0%,0%);stroke-opacity:1;stroke-miterlimit:10;\" transform=\"matrix(89.806237,0,0,89.806237,-390.58043,69.613601)\"/>\n",
       "<path d=\"M 5.224642 1.153087 L 4.534745 0.45088 \" style=\"fill:none;stroke-width:0.02;stroke-linecap:round;stroke-linejoin:miter;stroke:rgb(0%,0%,0%);stroke-opacity:1;stroke-miterlimit:10;\" transform=\"matrix(89.806237,0,0,89.806237,-390.58043,69.613601)\"/>\n",
       "<path d=\"M 6.390564 0.112652 L 5.986264 1.002676 \" style=\"fill:none;stroke-width:0.02;stroke-linecap:round;stroke-linejoin:miter;stroke:rgb(0%,0%,0%);stroke-opacity:1;stroke-miterlimit:10;\" transform=\"matrix(89.806237,0,0,89.806237,-390.58043,69.613601)\"/>\n",
       "<path d=\"M 4.939044 -0.439187 L 5.700667 -0.589554 \" style=\"fill:none;stroke-width:0.02;stroke-linecap:round;stroke-linejoin:miter;stroke:rgb(0%,0%,0%);stroke-opacity:1;stroke-miterlimit:10;\" transform=\"matrix(89.806237,0,0,89.806237,-390.58043,69.613601)\"/>\n",
       "<path d=\"M 5.046481 0.850525 L 5.986264 1.002676 \" style=\"fill:none;stroke-width:0.02;stroke-linecap:round;stroke-linejoin:miter;stroke:rgb(0%,0%,0%);stroke-opacity:1;stroke-miterlimit:10;\" transform=\"matrix(89.806237,0,0,89.806237,-390.58043,69.613601)\"/>\n",
       "<path d=\"M 4.939044 -0.439187 L 4.534745 0.45088 \" style=\"fill:none;stroke-width:0.02;stroke-linecap:round;stroke-linejoin:miter;stroke:rgb(0%,0%,0%);stroke-opacity:1;stroke-miterlimit:10;\" transform=\"matrix(89.806237,0,0,89.806237,-390.58043,69.613601)\"/>\n",
       "<path d=\"M 4.869972 -0.133538 L 5.767042 0.207518 \" style=\"fill:none;stroke-width:0.02;stroke-linecap:round;stroke-linejoin:miter;stroke:rgb(0%,0%,0%);stroke-opacity:1;stroke-miterlimit:10;\" transform=\"matrix(89.806237,0,0,89.806237,-390.58043,69.613601)\"/>\n",
       "<path d=\"M 5.158266 0.355971 L 5.224642 1.153087 \" style=\"fill:none;stroke-width:0.02;stroke-linecap:round;stroke-linejoin:miter;stroke:rgb(0%,0%,0%);stroke-opacity:1;stroke-miterlimit:10;\" transform=\"matrix(89.806237,0,0,89.806237,-390.58043,69.613601)\"/>\n",
       "<path d=\"M 5.224642 1.153087 L 6.055337 0.697027 \" style=\"fill:none;stroke-width:0.02;stroke-linecap:round;stroke-linejoin:miter;stroke:rgb(0%,0%,0%);stroke-opacity:1;stroke-miterlimit:10;\" transform=\"matrix(89.806237,0,0,89.806237,-390.58043,69.613601)\"/>\n",
       "<path d=\"M 5.700667 -0.589554 L 6.390564 0.112652 \" style=\"fill:none;stroke-width:0.02;stroke-linecap:round;stroke-linejoin:miter;stroke:rgb(0%,0%,0%);stroke-opacity:1;stroke-miterlimit:10;\" transform=\"matrix(89.806237,0,0,89.806237,-390.58043,69.613601)\"/>\n",
       "<path d=\"M 4.534745 0.45088 L 5.046481 0.850525 \" style=\"fill:none;stroke-width:0.02;stroke-linecap:round;stroke-linejoin:miter;stroke:rgb(0%,0%,0%);stroke-opacity:1;stroke-miterlimit:10;\" transform=\"matrix(89.806237,0,0,89.806237,-390.58043,69.613601)\"/>\n",
       "<path d=\"M 5.986264 1.002676 L 6.055337 0.697027 \" style=\"fill:none;stroke-width:0.02;stroke-linecap:round;stroke-linejoin:miter;stroke:rgb(0%,0%,0%);stroke-opacity:1;stroke-miterlimit:10;\" transform=\"matrix(89.806237,0,0,89.806237,-390.58043,69.613601)\"/>\n",
       "</g>\n",
       "</svg>"
      ],
      "text/plain": [
       "<IPython.core.display.SVG object>"
      ]
     },
     "metadata": {},
     "output_type": "display_data"
    },
    {
     "data": {
      "image/svg+xml": [
       "<svg height=\"400pt\" version=\"1.1\" viewBox=\"0 0 400 400\" width=\"400pt\" xmlns=\"http://www.w3.org/2000/svg\" xmlns:xlink=\"http://www.w3.org/1999/xlink\">\n",
       "<g id=\"surface121\">\n",
       "<path d=\"M 55.003906 -76.575 L -54.67793 77.9625 \" style=\"fill:none;stroke-width:0.05;stroke-linecap:round;stroke-linejoin:miter;stroke:rgb(0%,0%,0%);stroke-opacity:1;stroke-miterlimit:10;\" transform=\"matrix(20,0,0,20,200,200)\"/>\n",
       "<path d=\"M -15.420898 64.85918 L 15.009961 -65.639648 \" style=\"fill:none;stroke-width:0.05;stroke-linecap:round;stroke-linejoin:miter;stroke:rgb(0%,0%,0%);stroke-opacity:1;stroke-miterlimit:10;\" transform=\"matrix(20,0,0,20,200,200)\"/>\n",
       "<path d=\"M 87.894531 34.113477 L -89.156445 -33.451172 \" style=\"fill:none;stroke-width:0.05;stroke-linecap:round;stroke-linejoin:miter;stroke:rgb(0%,0%,0%);stroke-opacity:1;stroke-miterlimit:10;\" transform=\"matrix(20,0,0,20,200,200)\"/>\n",
       "<path d=\"M -73.49043 59.062109 L 73.547656 -60.486133 \" style=\"fill:none;stroke-width:0.05;stroke-linecap:round;stroke-linejoin:miter;stroke:rgb(0%,0%,0%);stroke-opacity:1;stroke-miterlimit:10;\" transform=\"matrix(20,0,0,20,200,200)\"/>\n",
       "<path d=\"M 13.876367 93.260352 L -16.136328 -93.852539 \" style=\"fill:none;stroke-width:0.05;stroke-linecap:round;stroke-linejoin:miter;stroke:rgb(0%,0%,0%);stroke-opacity:1;stroke-miterlimit:10;\" transform=\"matrix(20,0,0,20,200,200)\"/>\n",
       "<path d=\"M -93.817969 -9.347266 L 94.856445 8.371289 \" style=\"fill:none;stroke-width:0.05;stroke-linecap:round;stroke-linejoin:miter;stroke:rgb(0%,0%,0%);stroke-opacity:1;stroke-miterlimit:10;\" transform=\"matrix(20,0,0,20,200,200)\"/>\n",
       "<path d=\"M -64.370703 17.457617 L 63.860156 -21.437891 \" style=\"fill:none;stroke-width:0.05;stroke-linecap:round;stroke-linejoin:miter;stroke:rgb(0%,0%,0%);stroke-opacity:1;stroke-miterlimit:10;\" transform=\"matrix(20,0,0,20,200,200)\"/>\n",
       "<path d=\"M -48.459375 -45.78457 L 49.340625 45.818945 \" style=\"fill:none;stroke-width:0.05;stroke-linecap:round;stroke-linejoin:miter;stroke:rgb(0%,0%,0%);stroke-opacity:1;stroke-miterlimit:10;\" transform=\"matrix(20,0,0,20,200,200)\"/>\n",
       "<path d=\"M -38.32832 -86.145117 L 40.664258 86.111133 \" style=\"fill:none;stroke-width:0.05;stroke-linecap:round;stroke-linejoin:miter;stroke:rgb(0%,0%,0%);stroke-opacity:1;stroke-miterlimit:10;\" transform=\"matrix(20,0,0,20,200,200)\"/>\n",
       "<path d=\"M 63.880273 -19.074805 L -64.350586 19.820703 \" style=\"fill:none;stroke-width:0.05;stroke-linecap:round;stroke-linejoin:miter;stroke:rgb(0%,0%,0%);stroke-opacity:1;stroke-miterlimit:10;\" transform=\"matrix(20,0,0,20,200,200)\"/>\n",
       "<path d=\"M 73.827539 -58.647461 L -73.210547 60.900781 \" style=\"fill:none;stroke-width:0.05;stroke-linecap:round;stroke-linejoin:miter;stroke:rgb(0%,0%,0%);stroke-opacity:1;stroke-miterlimit:10;\" transform=\"matrix(20,0,0,20,200,200)\"/>\n",
       "<path d=\"M 38.814063 85.922266 L -40.178516 -86.333789 \" style=\"fill:none;stroke-width:0.05;stroke-linecap:round;stroke-linejoin:miter;stroke:rgb(0%,0%,0%);stroke-opacity:1;stroke-miterlimit:10;\" transform=\"matrix(20,0,0,20,200,200)\"/>\n",
       "<path d=\"M 93.767969 9.879297 L -94.906445 -7.839258 \" style=\"fill:none;stroke-width:0.05;stroke-linecap:round;stroke-linejoin:miter;stroke:rgb(0%,0%,0%);stroke-opacity:1;stroke-miterlimit:10;\" transform=\"matrix(20,0,0,20,200,200)\"/>\n",
       "<path d=\"M -55.439648 76.26582 L 54.242188 -78.271875 \" style=\"fill:none;stroke-width:0.05;stroke-linecap:round;stroke-linejoin:miter;stroke:rgb(0%,0%,0%);stroke-opacity:1;stroke-miterlimit:10;\" transform=\"matrix(20,0,0,20,200,200)\"/>\n",
       "<path d=\"M 47.304102 47.017969 L -50.495898 -44.585547 \" style=\"fill:none;stroke-width:0.05;stroke-linecap:round;stroke-linejoin:miter;stroke:rgb(0%,0%,0%);stroke-opacity:1;stroke-miterlimit:10;\" transform=\"matrix(20,0,0,20,200,200)\"/>\n",
       "<path d=\"M -87.703906 -34.612891 L 89.346875 32.951758 \" style=\"fill:none;stroke-width:0.05;stroke-linecap:round;stroke-linejoin:miter;stroke:rgb(0%,0%,0%);stroke-opacity:1;stroke-miterlimit:10;\" transform=\"matrix(20,0,0,20,200,200)\"/>\n",
       "<path d=\"M -14.404102 -93.175586 L 15.608594 93.937305 \" style=\"fill:none;stroke-width:0.05;stroke-linecap:round;stroke-linejoin:miter;stroke:rgb(0%,0%,0%);stroke-opacity:1;stroke-miterlimit:10;\" transform=\"matrix(20,0,0,20,200,200)\"/>\n",
       "<path d=\"M 17.066602 -64.475391 L -13.364258 66.023438 \" style=\"fill:none;stroke-width:0.05;stroke-linecap:round;stroke-linejoin:miter;stroke:rgb(0%,0%,0%);stroke-opacity:1;stroke-miterlimit:10;\" transform=\"matrix(20,0,0,20,200,200)\"/>\n",
       "</g>\n",
       "</svg>"
      ],
      "text/plain": [
       "<IPython.core.display.SVG object>"
      ]
     },
     "metadata": {},
     "output_type": "display_data"
    }
   ],
   "source": [
    "poly = netlib[4]\n",
    "wire_frame(poly)\n",
    "stellation_diagram(poly)"
   ]
  },
  {
   "cell_type": "code",
   "execution_count": 11,
   "metadata": {},
   "outputs": [
    {
     "data": {
      "image/svg+xml": [
       "<svg height=\"400pt\" version=\"1.1\" viewBox=\"0 0 400 400\" width=\"400pt\" xmlns=\"http://www.w3.org/2000/svg\" xmlns:xlink=\"http://www.w3.org/1999/xlink\">\n",
       "<g id=\"surface31\">\n",
       "<path d=\"M 22.069336 28.043359 L -23.071094 -27.691211 \" style=\"fill:none;stroke-width:0.05;stroke-linecap:round;stroke-linejoin:miter;stroke:rgb(0%,0%,0%);stroke-opacity:1;stroke-miterlimit:10;\" transform=\"matrix(20,0,0,20,200,200)\"/>\n",
       "<path d=\"M -72.908789 58.406641 L 73.005273 -59.77168 \" style=\"fill:none;stroke-width:0.05;stroke-linecap:round;stroke-linejoin:miter;stroke:rgb(0%,0%,0%);stroke-opacity:1;stroke-miterlimit:10;\" transform=\"matrix(20,0,0,20,200,200)\"/>\n",
       "<path d=\"M -22.069336 -28.043359 L 23.071094 27.691211 \" style=\"fill:none;stroke-width:0.05;stroke-linecap:round;stroke-linejoin:miter;stroke:rgb(0%,0%,0%);stroke-opacity:1;stroke-miterlimit:10;\" transform=\"matrix(20,0,0,20,200,200)\"/>\n",
       "<path d=\"M 72.908789 -58.406641 L -73.005273 59.77168 \" style=\"fill:none;stroke-width:0.05;stroke-linecap:round;stroke-linejoin:miter;stroke:rgb(0%,0%,0%);stroke-opacity:1;stroke-miterlimit:10;\" transform=\"matrix(20,0,0,20,200,200)\"/>\n",
       "<path d=\"M 99.279492 -12.001563 L -100.096875 13.49375 \" style=\"fill:none;stroke-width:0.05;stroke-linecap:round;stroke-linejoin:miter;stroke:rgb(0%,0%,0%);stroke-opacity:1;stroke-miterlimit:10;\" transform=\"matrix(20,0,0,20,200,200)\"/>\n",
       "<path d=\"M -33.664648 94.165625 L 32.695508 -95.564063 \" style=\"fill:none;stroke-width:0.05;stroke-linecap:round;stroke-linejoin:miter;stroke:rgb(0%,0%,0%);stroke-opacity:1;stroke-miterlimit:10;\" transform=\"matrix(20,0,0,20,200,200)\"/>\n",
       "<path d=\"M -99.279492 12.001563 L 100.096875 -13.49375 \" style=\"fill:none;stroke-width:0.05;stroke-linecap:round;stroke-linejoin:miter;stroke:rgb(0%,0%,0%);stroke-opacity:1;stroke-miterlimit:10;\" transform=\"matrix(20,0,0,20,200,200)\"/>\n",
       "<path d=\"M 33.664648 -94.165625 L -32.695508 95.564063 \" style=\"fill:none;stroke-width:0.05;stroke-linecap:round;stroke-linejoin:miter;stroke:rgb(0%,0%,0%);stroke-opacity:1;stroke-miterlimit:10;\" transform=\"matrix(20,0,0,20,200,200)\"/>\n",
       "<path d=\"M 18.777344 30.708984 L -26.362695 -25.024609 \" style=\"fill:none;stroke-width:0.05;stroke-linecap:round;stroke-linejoin:miter;stroke:rgb(0%,0%,0%);stroke-opacity:1;stroke-miterlimit:10;\" transform=\"matrix(20,0,0,20,200,200)\"/>\n",
       "<path d=\"M -73.297656 57.926367 L 72.616406 -60.251953 \" style=\"fill:none;stroke-width:0.05;stroke-linecap:round;stroke-linejoin:miter;stroke:rgb(0%,0%,0%);stroke-opacity:1;stroke-miterlimit:10;\" transform=\"matrix(20,0,0,20,200,200)\"/>\n",
       "<path d=\"M -18.777344 -30.708984 L 26.362695 25.024609 \" style=\"fill:none;stroke-width:0.05;stroke-linecap:round;stroke-linejoin:miter;stroke:rgb(0%,0%,0%);stroke-opacity:1;stroke-miterlimit:10;\" transform=\"matrix(20,0,0,20,200,200)\"/>\n",
       "<path d=\"M 73.297656 -57.926367 L -72.616406 60.251953 \" style=\"fill:none;stroke-width:0.05;stroke-linecap:round;stroke-linejoin:miter;stroke:rgb(0%,0%,0%);stroke-opacity:1;stroke-miterlimit:10;\" transform=\"matrix(20,0,0,20,200,200)\"/>\n",
       "</g>\n",
       "</svg>"
      ],
      "text/plain": [
       "<IPython.core.display.SVG object>"
      ]
     },
     "metadata": {},
     "output_type": "display_data"
    },
    {
     "data": {
      "image/svg+xml": [
       "<svg height=\"400pt\" version=\"1.1\" viewBox=\"0 0 400 400\" width=\"400pt\" xmlns=\"http://www.w3.org/2000/svg\" xmlns:xlink=\"http://www.w3.org/1999/xlink\">\n",
       "<g id=\"surface36\">\n",
       "<path d=\"M -34.634961 -8.584375 L 34.893164 9.017773 \" style=\"fill:none;stroke-width:0.05;stroke-linecap:round;stroke-linejoin:miter;stroke:rgb(0%,0%,0%);stroke-opacity:1;stroke-miterlimit:10;\" transform=\"matrix(20,0,0,20,200,200)\"/>\n",
       "<path d=\"M -35.706836 87.258984 L 35.185352 -88.485938 \" style=\"fill:none;stroke-width:0.05;stroke-linecap:round;stroke-linejoin:miter;stroke:rgb(0%,0%,0%);stroke-opacity:1;stroke-miterlimit:10;\" transform=\"matrix(20,0,0,20,200,200)\"/>\n",
       "<path d=\"M -64.54043 -16.707617 L 65.361914 16.179297 \" style=\"fill:none;stroke-width:0.05;stroke-linecap:round;stroke-linejoin:miter;stroke:rgb(0%,0%,0%);stroke-opacity:1;stroke-miterlimit:10;\" transform=\"matrix(20,0,0,20,200,200)\"/>\n",
       "<path d=\"M 11.052344 -93.632031 L -10.221484 94.674805 \" style=\"fill:none;stroke-width:0.05;stroke-linecap:round;stroke-linejoin:miter;stroke:rgb(0%,0%,0%);stroke-opacity:1;stroke-miterlimit:10;\" transform=\"matrix(20,0,0,20,200,200)\"/>\n",
       "<path d=\"M 68.861719 -70.045898 L -68.797852 71.47832 \" style=\"fill:none;stroke-width:0.05;stroke-linecap:round;stroke-linejoin:miter;stroke:rgb(0%,0%,0%);stroke-opacity:1;stroke-miterlimit:10;\" transform=\"matrix(20,0,0,20,200,200)\"/>\n",
       "<path d=\"M 26.230859 94.658984 L -27.503125 -95.319922 \" style=\"fill:none;stroke-width:0.05;stroke-linecap:round;stroke-linejoin:miter;stroke:rgb(0%,0%,0%);stroke-opacity:1;stroke-miterlimit:10;\" transform=\"matrix(20,0,0,20,200,200)\"/>\n",
       "<path d=\"M -69.117383 69.79707 L 68.541992 -71.727148 \" style=\"fill:none;stroke-width:0.05;stroke-linecap:round;stroke-linejoin:miter;stroke:rgb(0%,0%,0%);stroke-opacity:1;stroke-miterlimit:10;\" transform=\"matrix(20,0,0,20,200,200)\"/>\n",
       "<path d=\"M -25.887305 -94.756055 L 27.846289 95.222656 \" style=\"fill:none;stroke-width:0.05;stroke-linecap:round;stroke-linejoin:miter;stroke:rgb(0%,0%,0%);stroke-opacity:1;stroke-miterlimit:10;\" transform=\"matrix(20,0,0,20,200,200)\"/>\n",
       "<path d=\"M 64.027539 18.732422 L -65.874219 -14.154297 \" style=\"fill:none;stroke-width:0.05;stroke-linecap:round;stroke-linejoin:miter;stroke:rgb(0%,0%,0%);stroke-opacity:1;stroke-miterlimit:10;\" transform=\"matrix(20,0,0,20,200,200)\"/>\n",
       "<path d=\"M -11.708789 93.557813 L 9.565039 -94.748828 \" style=\"fill:none;stroke-width:0.05;stroke-linecap:round;stroke-linejoin:miter;stroke:rgb(0%,0%,0%);stroke-opacity:1;stroke-miterlimit:10;\" transform=\"matrix(20,0,0,20,200,200)\"/>\n",
       "<path d=\"M 36.319531 -87.011719 L -34.572852 88.733008 \" style=\"fill:none;stroke-width:0.05;stroke-linecap:round;stroke-linejoin:miter;stroke:rgb(0%,0%,0%);stroke-opacity:1;stroke-miterlimit:10;\" transform=\"matrix(20,0,0,20,200,200)\"/>\n",
       "<path d=\"M 33.43457 13.326367 L -36.093945 -4.276367 \" style=\"fill:none;stroke-width:0.05;stroke-linecap:round;stroke-linejoin:miter;stroke:rgb(0%,0%,0%);stroke-opacity:1;stroke-miterlimit:10;\" transform=\"matrix(20,0,0,20,200,200)\"/>\n",
       "</g>\n",
       "</svg>"
      ],
      "text/plain": [
       "<IPython.core.display.SVG object>"
      ]
     },
     "metadata": {},
     "output_type": "display_data"
    },
    {
     "data": {
      "image/svg+xml": [
       "<svg height=\"400pt\" version=\"1.1\" viewBox=\"0 0 400 400\" width=\"400pt\" xmlns=\"http://www.w3.org/2000/svg\" xmlns:xlink=\"http://www.w3.org/1999/xlink\">\n",
       "<g id=\"surface41\">\n",
       "<path d=\"M -86.211328 -35.982227 L 87.513867 35.268359 \" style=\"fill:none;stroke-width:0.05;stroke-linecap:round;stroke-linejoin:miter;stroke:rgb(0%,0%,0%);stroke-opacity:1;stroke-miterlimit:10;\" transform=\"matrix(20,0,0,20,200,200)\"/>\n",
       "<path d=\"M -66.693164 -66.643945 L 68.380469 66.273633 \" style=\"fill:none;stroke-width:0.05;stroke-linecap:round;stroke-linejoin:miter;stroke:rgb(0%,0%,0%);stroke-opacity:1;stroke-miterlimit:10;\" transform=\"matrix(20,0,0,20,200,200)\"/>\n",
       "<path d=\"M -94.280078 -0.824609 L 95.224414 -0.62168 \" style=\"fill:none;stroke-width:0.05;stroke-linecap:round;stroke-linejoin:miter;stroke:rgb(0%,0%,0%);stroke-opacity:1;stroke-miterlimit:10;\" transform=\"matrix(20,0,0,20,200,200)\"/>\n",
       "<path d=\"M -60.929688 -27.12793 L 63.048047 23.719727 \" style=\"fill:none;stroke-width:0.05;stroke-linecap:round;stroke-linejoin:miter;stroke:rgb(0%,0%,0%);stroke-opacity:1;stroke-miterlimit:10;\" transform=\"matrix(20,0,0,20,200,200)\"/>\n",
       "<path d=\"M -6.029687 -60.443359 L 10.318555 60.475977 \" style=\"fill:none;stroke-width:0.05;stroke-linecap:round;stroke-linejoin:miter;stroke:rgb(0%,0%,0%);stroke-opacity:1;stroke-miterlimit:10;\" transform=\"matrix(20,0,0,20,200,200)\"/>\n",
       "<path d=\"M 48.120703 -37.008984 L -48.424609 37.608594 \" style=\"fill:none;stroke-width:0.05;stroke-linecap:round;stroke-linejoin:miter;stroke:rgb(0%,0%,0%);stroke-opacity:1;stroke-miterlimit:10;\" transform=\"matrix(20,0,0,20,200,200)\"/>\n",
       "<path d=\"M 7.990625 60.178125 L -8.358008 -60.741211 \" style=\"fill:none;stroke-width:0.05;stroke-linecap:round;stroke-linejoin:miter;stroke:rgb(0%,0%,0%);stroke-opacity:1;stroke-miterlimit:10;\" transform=\"matrix(20,0,0,20,200,200)\"/>\n",
       "<path d=\"M -49.330273 35.443555 L 47.214258 -39.174414 \" style=\"fill:none;stroke-width:0.05;stroke-linecap:round;stroke-linejoin:miter;stroke:rgb(0%,0%,0%);stroke-opacity:1;stroke-miterlimit:10;\" transform=\"matrix(20,0,0,20,200,200)\"/>\n",
       "<path d=\"M 94.279492 1.359375 L -95.225 1.155664 \" style=\"fill:none;stroke-width:0.05;stroke-linecap:round;stroke-linejoin:miter;stroke:rgb(0%,0%,0%);stroke-opacity:1;stroke-miterlimit:10;\" transform=\"matrix(20,0,0,20,200,200)\"/>\n",
       "<path d=\"M 61.570898 25.564453 L -62.406836 -25.283203 \" style=\"fill:none;stroke-width:0.05;stroke-linecap:round;stroke-linejoin:miter;stroke:rgb(0%,0%,0%);stroke-opacity:1;stroke-miterlimit:10;\" transform=\"matrix(20,0,0,20,200,200)\"/>\n",
       "<path d=\"M 66.31875 67.024609 L -68.755469 -65.892383 \" style=\"fill:none;stroke-width:0.05;stroke-linecap:round;stroke-linejoin:miter;stroke:rgb(0%,0%,0%);stroke-opacity:1;stroke-miterlimit:10;\" transform=\"matrix(20,0,0,20,200,200)\"/>\n",
       "<path d=\"M 85.992383 36.516211 L -87.733008 -34.733984 \" style=\"fill:none;stroke-width:0.05;stroke-linecap:round;stroke-linejoin:miter;stroke:rgb(0%,0%,0%);stroke-opacity:1;stroke-miterlimit:10;\" transform=\"matrix(20,0,0,20,200,200)\"/>\n",
       "</g>\n",
       "</svg>"
      ],
      "text/plain": [
       "<IPython.core.display.SVG object>"
      ]
     },
     "metadata": {},
     "output_type": "display_data"
    },
    {
     "data": {
      "image/svg+xml": [
       "<svg height=\"400pt\" version=\"1.1\" viewBox=\"0 0 400 400\" width=\"400pt\" xmlns=\"http://www.w3.org/2000/svg\" xmlns:xlink=\"http://www.w3.org/1999/xlink\">\n",
       "<g id=\"surface46\">\n",
       "<path d=\"M 4.37207 35.414062 L -4.05957 -35.810352 \" style=\"fill:none;stroke-width:0.05;stroke-linecap:round;stroke-linejoin:miter;stroke:rgb(0%,0%,0%);stroke-opacity:1;stroke-miterlimit:10;\" transform=\"matrix(20,0,0,20,200,200)\"/>\n",
       "<path d=\"M 7.483008 66.24668 L -8.270117 -66.824805 \" style=\"fill:none;stroke-width:0.05;stroke-linecap:round;stroke-linejoin:miter;stroke:rgb(0%,0%,0%);stroke-opacity:1;stroke-miterlimit:10;\" transform=\"matrix(20,0,0,20,200,200)\"/>\n",
       "<path d=\"M -91.39082 23.169727 L 92.067383 -24.318555 \" style=\"fill:none;stroke-width:0.05;stroke-linecap:round;stroke-linejoin:miter;stroke:rgb(0%,0%,0%);stroke-opacity:1;stroke-miterlimit:10;\" transform=\"matrix(20,0,0,20,200,200)\"/>\n",
       "<path d=\"M 94.258008 2.133203 L -95.217188 -1.207227 \" style=\"fill:none;stroke-width:0.05;stroke-linecap:round;stroke-linejoin:miter;stroke:rgb(0%,0%,0%);stroke-opacity:1;stroke-miterlimit:10;\" transform=\"matrix(20,0,0,20,200,200)\"/>\n",
       "<path d=\"M 89.901758 39.579297 L -91.498242 -38.351562 \" style=\"fill:none;stroke-width:0.05;stroke-linecap:round;stroke-linejoin:miter;stroke:rgb(0%,0%,0%);stroke-opacity:1;stroke-miterlimit:10;\" transform=\"matrix(20,0,0,20,200,200)\"/>\n",
       "<path d=\"M -79.227539 58.067578 L 78.962695 -60.063867 \" style=\"fill:none;stroke-width:0.05;stroke-linecap:round;stroke-linejoin:miter;stroke:rgb(0%,0%,0%);stroke-opacity:1;stroke-miterlimit:10;\" transform=\"matrix(20,0,0,20,200,200)\"/>\n",
       "<path d=\"M -90.042773 -39.251367 L 91.357422 38.679492 \" style=\"fill:none;stroke-width:0.05;stroke-linecap:round;stroke-linejoin:miter;stroke:rgb(0%,0%,0%);stroke-opacity:1;stroke-miterlimit:10;\" transform=\"matrix(20,0,0,20,200,200)\"/>\n",
       "<path d=\"M 79.014063 -58.353516 L -79.176172 59.778125 \" style=\"fill:none;stroke-width:0.05;stroke-linecap:round;stroke-linejoin:miter;stroke:rgb(0%,0%,0%);stroke-opacity:1;stroke-miterlimit:10;\" transform=\"matrix(20,0,0,20,200,200)\"/>\n",
       "<path d=\"M -94.246289 -2.793555 L 95.228906 0.546875 \" style=\"fill:none;stroke-width:0.05;stroke-linecap:round;stroke-linejoin:miter;stroke:rgb(0%,0%,0%);stroke-opacity:1;stroke-miterlimit:10;\" transform=\"matrix(20,0,0,20,200,200)\"/>\n",
       "<path d=\"M -5.408594 -66.491797 L 10.344531 66.578906 \" style=\"fill:none;stroke-width:0.05;stroke-linecap:round;stroke-linejoin:miter;stroke:rgb(0%,0%,0%);stroke-opacity:1;stroke-miterlimit:10;\" transform=\"matrix(20,0,0,20,200,200)\"/>\n",
       "<path d=\"M 91.55625 -22.530273 L -91.901758 24.958008 \" style=\"fill:none;stroke-width:0.05;stroke-linecap:round;stroke-linejoin:miter;stroke:rgb(0%,0%,0%);stroke-opacity:1;stroke-miterlimit:10;\" transform=\"matrix(20,0,0,20,200,200)\"/>\n",
       "<path d=\"M 0.485352 -35.988867 L 8.917188 35.234961 \" style=\"fill:none;stroke-width:0.05;stroke-linecap:round;stroke-linejoin:miter;stroke:rgb(0%,0%,0%);stroke-opacity:1;stroke-miterlimit:10;\" transform=\"matrix(20,0,0,20,200,200)\"/>\n",
       "</g>\n",
       "</svg>"
      ],
      "text/plain": [
       "<IPython.core.display.SVG object>"
      ]
     },
     "metadata": {},
     "output_type": "display_data"
    },
    {
     "data": {
      "image/svg+xml": [
       "<svg height=\"400pt\" version=\"1.1\" viewBox=\"0 0 400 400\" width=\"400pt\" xmlns=\"http://www.w3.org/2000/svg\" xmlns:xlink=\"http://www.w3.org/1999/xlink\">\n",
       "<g id=\"surface51\">\n",
       "<path d=\"M -56.944336 74.057227 L 56.589453 -75.499414 \" style=\"fill:none;stroke-width:0.05;stroke-linecap:round;stroke-linejoin:miter;stroke:rgb(0%,0%,0%);stroke-opacity:1;stroke-miterlimit:10;\" transform=\"matrix(20,0,0,20,200,200)\"/>\n",
       "<path d=\"M -25.044336 90.89668 L 23.889648 -92.18125 \" style=\"fill:none;stroke-width:0.05;stroke-linecap:round;stroke-linejoin:miter;stroke:rgb(0%,0%,0%);stroke-opacity:1;stroke-miterlimit:10;\" transform=\"matrix(20,0,0,20,200,200)\"/>\n",
       "<path d=\"M -41.885742 51.903125 L 39.136914 -54.826953 \" style=\"fill:none;stroke-width:0.05;stroke-linecap:round;stroke-linejoin:miter;stroke:rgb(0%,0%,0%);stroke-opacity:1;stroke-miterlimit:10;\" transform=\"matrix(20,0,0,20,200,200)\"/>\n",
       "<path d=\"M -81.554883 47.309766 L 81.630859 -49.035352 \" style=\"fill:none;stroke-width:0.05;stroke-linecap:round;stroke-linejoin:miter;stroke:rgb(0%,0%,0%);stroke-opacity:1;stroke-miterlimit:10;\" transform=\"matrix(20,0,0,20,200,200)\"/>\n",
       "<path d=\"M 60.208984 7.755273 L -60.847461 -7.545117 \" style=\"fill:none;stroke-width:0.05;stroke-linecap:round;stroke-linejoin:miter;stroke:rgb(0%,0%,0%);stroke-opacity:1;stroke-miterlimit:10;\" transform=\"matrix(20,0,0,20,200,200)\"/>\n",
       "<path d=\"M 21.564258 56.786523 L -25.713672 -55.701172 \" style=\"fill:none;stroke-width:0.05;stroke-linecap:round;stroke-linejoin:miter;stroke:rgb(0%,0%,0%);stroke-opacity:1;stroke-miterlimit:10;\" transform=\"matrix(20,0,0,20,200,200)\"/>\n",
       "<path d=\"M -59.960742 -9.718359 L 61.095508 5.582031 \" style=\"fill:none;stroke-width:0.05;stroke-linecap:round;stroke-linejoin:miter;stroke:rgb(0%,0%,0%);stroke-opacity:1;stroke-miterlimit:10;\" transform=\"matrix(20,0,0,20,200,200)\"/>\n",
       "<path d=\"M -23.388086 -56.020313 L 23.889453 56.467969 \" style=\"fill:none;stroke-width:0.05;stroke-linecap:round;stroke-linejoin:miter;stroke:rgb(0%,0%,0%);stroke-opacity:1;stroke-miterlimit:10;\" transform=\"matrix(20,0,0,20,200,200)\"/>\n",
       "<path d=\"M 81.826367 -46.85 L -81.358984 49.496094 \" style=\"fill:none;stroke-width:0.05;stroke-linecap:round;stroke-linejoin:miter;stroke:rgb(0%,0%,0%);stroke-opacity:1;stroke-miterlimit:10;\" transform=\"matrix(20,0,0,20,200,200)\"/>\n",
       "<path d=\"M 25.561133 -90.758398 L -23.373828 92.318945 \" style=\"fill:none;stroke-width:0.05;stroke-linecap:round;stroke-linejoin:miter;stroke:rgb(0%,0%,0%);stroke-opacity:1;stroke-miterlimit:10;\" transform=\"matrix(20,0,0,20,200,200)\"/>\n",
       "<path d=\"M 40.539844 -52.925 L -40.483008 53.805078 \" style=\"fill:none;stroke-width:0.05;stroke-linecap:round;stroke-linejoin:miter;stroke:rgb(0%,0%,0%);stroke-opacity:1;stroke-miterlimit:10;\" transform=\"matrix(20,0,0,20,200,200)\"/>\n",
       "<path d=\"M 57.404297 -73.707813 L -56.129688 75.848242 \" style=\"fill:none;stroke-width:0.05;stroke-linecap:round;stroke-linejoin:miter;stroke:rgb(0%,0%,0%);stroke-opacity:1;stroke-miterlimit:10;\" transform=\"matrix(20,0,0,20,200,200)\"/>\n",
       "</g>\n",
       "</svg>"
      ],
      "text/plain": [
       "<IPython.core.display.SVG object>"
      ]
     },
     "metadata": {},
     "output_type": "display_data"
    },
    {
     "data": {
      "image/svg+xml": [
       "<svg height=\"400pt\" version=\"1.1\" viewBox=\"0 0 400 400\" width=\"400pt\" xmlns=\"http://www.w3.org/2000/svg\" xmlns:xlink=\"http://www.w3.org/1999/xlink\">\n",
       "<g id=\"surface56\">\n",
       "<path d=\"M -44.483594 89.564844 L 43.466211 -91.17207 \" style=\"fill:none;stroke-width:0.05;stroke-linecap:round;stroke-linejoin:miter;stroke:rgb(0%,0%,0%);stroke-opacity:1;stroke-miterlimit:10;\" transform=\"matrix(20,0,0,20,200,200)\"/>\n",
       "<path d=\"M -14.394141 97.167773 L 12.906445 -98.367188 \" style=\"fill:none;stroke-width:0.05;stroke-linecap:round;stroke-linejoin:miter;stroke:rgb(0%,0%,0%);stroke-opacity:1;stroke-miterlimit:10;\" transform=\"matrix(20,0,0,20,200,200)\"/>\n",
       "<path d=\"M 26.654492 54.583789 L -30.727344 -53.101367 \" style=\"fill:none;stroke-width:0.05;stroke-linecap:round;stroke-linejoin:miter;stroke:rgb(0%,0%,0%);stroke-opacity:1;stroke-miterlimit:10;\" transform=\"matrix(20,0,0,20,200,200)\"/>\n",
       "<path d=\"M -68.948438 69.966992 L 68.071289 -72.176758 \" style=\"fill:none;stroke-width:0.05;stroke-linecap:round;stroke-linejoin:miter;stroke:rgb(0%,0%,0%);stroke-opacity:1;stroke-miterlimit:10;\" transform=\"matrix(20,0,0,20,200,200)\"/>\n",
       "<path d=\"M -59.83457 10.256641 L 60.312109 -11.040234 \" style=\"fill:none;stroke-width:0.05;stroke-linecap:round;stroke-linejoin:miter;stroke:rgb(0%,0%,0%);stroke-opacity:1;stroke-miterlimit:10;\" transform=\"matrix(20,0,0,20,200,200)\"/>\n",
       "<path d=\"M 79.938672 40.137695 L -81.717383 -38.526562 \" style=\"fill:none;stroke-width:0.05;stroke-linecap:round;stroke-linejoin:miter;stroke:rgb(0%,0%,0%);stroke-opacity:1;stroke-miterlimit:10;\" transform=\"matrix(20,0,0,20,200,200)\"/>\n",
       "<path d=\"M -80.239648 -39.519336 L 81.416211 39.145703 \" style=\"fill:none;stroke-width:0.05;stroke-linecap:round;stroke-linejoin:miter;stroke:rgb(0%,0%,0%);stroke-opacity:1;stroke-miterlimit:10;\" transform=\"matrix(20,0,0,20,200,200)\"/>\n",
       "<path d=\"M 68.758789 -70.149805 L -68.260352 71.994531 \" style=\"fill:none;stroke-width:0.05;stroke-linecap:round;stroke-linejoin:miter;stroke:rgb(0%,0%,0%);stroke-opacity:1;stroke-miterlimit:10;\" transform=\"matrix(20,0,0,20,200,200)\"/>\n",
       "<path d=\"M 60.149023 -8.482617 L -59.997656 12.814258 \" style=\"fill:none;stroke-width:0.05;stroke-linecap:round;stroke-linejoin:miter;stroke:rgb(0%,0%,0%);stroke-opacity:1;stroke-miterlimit:10;\" transform=\"matrix(20,0,0,20,200,200)\"/>\n",
       "<path d=\"M 14.654883 -97.131445 L -12.646484 98.403516 \" style=\"fill:none;stroke-width:0.05;stroke-linecap:round;stroke-linejoin:miter;stroke:rgb(0%,0%,0%);stroke-opacity:1;stroke-miterlimit:10;\" transform=\"matrix(20,0,0,20,200,200)\"/>\n",
       "<path d=\"M -28.244336 -53.736523 L 29.137109 53.948633 \" style=\"fill:none;stroke-width:0.05;stroke-linecap:round;stroke-linejoin:miter;stroke:rgb(0%,0%,0%);stroke-opacity:1;stroke-miterlimit:10;\" transform=\"matrix(20,0,0,20,200,200)\"/>\n",
       "<path d=\"M 44.483789 -89.564844 L -43.466406 91.171875 \" style=\"fill:none;stroke-width:0.05;stroke-linecap:round;stroke-linejoin:miter;stroke:rgb(0%,0%,0%);stroke-opacity:1;stroke-miterlimit:10;\" transform=\"matrix(20,0,0,20,200,200)\"/>\n",
       "</g>\n",
       "</svg>"
      ],
      "text/plain": [
       "<IPython.core.display.SVG object>"
      ]
     },
     "metadata": {},
     "output_type": "display_data"
    },
    {
     "data": {
      "image/svg+xml": [
       "<svg height=\"400pt\" version=\"1.1\" viewBox=\"0 0 400 400\" width=\"400pt\" xmlns=\"http://www.w3.org/2000/svg\" xmlns:xlink=\"http://www.w3.org/1999/xlink\">\n",
       "<g id=\"surface61\">\n",
       "<path d=\"M 97.282617 23.167773 L -98.619336 -21.814453 \" style=\"fill:none;stroke-width:0.05;stroke-linecap:round;stroke-linejoin:miter;stroke:rgb(0%,0%,0%);stroke-opacity:1;stroke-miterlimit:10;\" transform=\"matrix(20,0,0,20,200,200)\"/>\n",
       "<path d=\"M 83.833789 51.192383 L -85.518945 -50.291211 \" style=\"fill:none;stroke-width:0.05;stroke-linecap:round;stroke-linejoin:miter;stroke:rgb(0%,0%,0%);stroke-opacity:1;stroke-miterlimit:10;\" transform=\"matrix(20,0,0,20,200,200)\"/>\n",
       "<path d=\"M 45.994336 -39.621875 L -45.999805 40.539453 \" style=\"fill:none;stroke-width:0.05;stroke-linecap:round;stroke-linejoin:miter;stroke:rgb(0%,0%,0%);stroke-opacity:1;stroke-miterlimit:10;\" transform=\"matrix(20,0,0,20,200,200)\"/>\n",
       "<path d=\"M 97.936133 -7.599219 L -98.723438 9.842383 \" style=\"fill:none;stroke-width:0.05;stroke-linecap:round;stroke-linejoin:miter;stroke:rgb(0%,0%,0%);stroke-opacity:1;stroke-miterlimit:10;\" transform=\"matrix(20,0,0,20,200,200)\"/>\n",
       "<path d=\"M 21.811914 56.692773 L -25.998242 -55.569727 \" style=\"fill:none;stroke-width:0.05;stroke-linecap:round;stroke-linejoin:miter;stroke:rgb(0%,0%,0%);stroke-opacity:1;stroke-miterlimit:10;\" transform=\"matrix(20,0,0,20,200,200)\"/>\n",
       "<path d=\"M -21.101953 86.925 L 19.131641 -88.295117 \" style=\"fill:none;stroke-width:0.05;stroke-linecap:round;stroke-linejoin:miter;stroke:rgb(0%,0%,0%);stroke-opacity:1;stroke-miterlimit:10;\" transform=\"matrix(20,0,0,20,200,200)\"/>\n",
       "<path d=\"M 20.431055 -87.078906 L -19.802148 88.141016 \" style=\"fill:none;stroke-width:0.05;stroke-linecap:round;stroke-linejoin:miter;stroke:rgb(0%,0%,0%);stroke-opacity:1;stroke-miterlimit:10;\" transform=\"matrix(20,0,0,20,200,200)\"/>\n",
       "<path d=\"M -97.913086 7.860547 L 98.74668 -9.580273 \" style=\"fill:none;stroke-width:0.05;stroke-linecap:round;stroke-linejoin:miter;stroke:rgb(0%,0%,0%);stroke-opacity:1;stroke-miterlimit:10;\" transform=\"matrix(20,0,0,20,200,200)\"/>\n",
       "<path d=\"M -23.469531 -55.986914 L 24.340625 56.275781 \" style=\"fill:none;stroke-width:0.05;stroke-linecap:round;stroke-linejoin:miter;stroke:rgb(0%,0%,0%);stroke-opacity:1;stroke-miterlimit:10;\" transform=\"matrix(20,0,0,20,200,200)\"/>\n",
       "<path d=\"M -83.698828 -51.417578 L 85.654297 50.06543 \" style=\"fill:none;stroke-width:0.05;stroke-linecap:round;stroke-linejoin:miter;stroke:rgb(0%,0%,0%);stroke-opacity:1;stroke-miterlimit:10;\" transform=\"matrix(20,0,0,20,200,200)\"/>\n",
       "<path d=\"M -47.178125 38.263477 L 44.816406 -41.897852 \" style=\"fill:none;stroke-width:0.05;stroke-linecap:round;stroke-linejoin:miter;stroke:rgb(0%,0%,0%);stroke-opacity:1;stroke-miterlimit:10;\" transform=\"matrix(20,0,0,20,200,200)\"/>\n",
       "<path d=\"M -97.282617 -23.167578 L 98.619336 21.814453 \" style=\"fill:none;stroke-width:0.05;stroke-linecap:round;stroke-linejoin:miter;stroke:rgb(0%,0%,0%);stroke-opacity:1;stroke-miterlimit:10;\" transform=\"matrix(20,0,0,20,200,200)\"/>\n",
       "</g>\n",
       "</svg>"
      ],
      "text/plain": [
       "<IPython.core.display.SVG object>"
      ]
     },
     "metadata": {},
     "output_type": "display_data"
    },
    {
     "data": {
      "image/svg+xml": [
       "<svg height=\"400pt\" version=\"1.1\" viewBox=\"0 0 400 400\" width=\"400pt\" xmlns=\"http://www.w3.org/2000/svg\" xmlns:xlink=\"http://www.w3.org/1999/xlink\">\n",
       "<g id=\"surface66\">\n",
       "<path d=\"M -96.786719 -25.15957 L 98.150781 23.833984 \" style=\"fill:none;stroke-width:0.05;stroke-linecap:round;stroke-linejoin:miter;stroke:rgb(0%,0%,0%);stroke-opacity:1;stroke-miterlimit:10;\" transform=\"matrix(20,0,0,20,200,200)\"/>\n",
       "<path d=\"M -82.625586 -53.125 L 84.608398 51.813281 \" style=\"fill:none;stroke-width:0.05;stroke-linecap:round;stroke-linejoin:miter;stroke:rgb(0%,0%,0%);stroke-opacity:1;stroke-miterlimit:10;\" transform=\"matrix(20,0,0,20,200,200)\"/>\n",
       "<path d=\"M -22.315625 -56.456836 L 23.180469 56.763477 \" style=\"fill:none;stroke-width:0.05;stroke-linecap:round;stroke-linejoin:miter;stroke:rgb(0%,0%,0%);stroke-opacity:1;stroke-miterlimit:10;\" transform=\"matrix(20,0,0,20,200,200)\"/>\n",
       "<path d=\"M -98.053711 5.849609 L 98.922461 -7.551758 \" style=\"fill:none;stroke-width:0.05;stroke-linecap:round;stroke-linejoin:miter;stroke:rgb(0%,0%,0%);stroke-opacity:1;stroke-miterlimit:10;\" transform=\"matrix(20,0,0,20,200,200)\"/>\n",
       "<path d=\"M -47.953125 37.287109 L 45.666602 -40.969336 \" style=\"fill:none;stroke-width:0.05;stroke-linecap:round;stroke-linejoin:miter;stroke:rgb(0%,0%,0%);stroke-opacity:1;stroke-miterlimit:10;\" transform=\"matrix(20,0,0,20,200,200)\"/>\n",
       "<path d=\"M 22.214258 -86.641211 L -21.607227 87.716016 \" style=\"fill:none;stroke-width:0.05;stroke-linecap:round;stroke-linejoin:miter;stroke:rgb(0%,0%,0%);stroke-opacity:1;stroke-miterlimit:10;\" transform=\"matrix(20,0,0,20,200,200)\"/>\n",
       "<path d=\"M -22.88125 86.473633 L 20.939453 -87.883984 \" style=\"fill:none;stroke-width:0.05;stroke-linecap:round;stroke-linejoin:miter;stroke:rgb(0%,0%,0%);stroke-opacity:1;stroke-miterlimit:10;\" transform=\"matrix(20,0,0,20,200,200)\"/>\n",
       "<path d=\"M 98.07168 -5.586914 L -98.904688 7.813672 \" style=\"fill:none;stroke-width:0.05;stroke-linecap:round;stroke-linejoin:miter;stroke:rgb(0%,0%,0%);stroke-opacity:1;stroke-miterlimit:10;\" transform=\"matrix(20,0,0,20,200,200)\"/>\n",
       "<path d=\"M 46.797656 -38.669531 L -46.82207 39.586914 \" style=\"fill:none;stroke-width:0.05;stroke-linecap:round;stroke-linejoin:miter;stroke:rgb(0%,0%,0%);stroke-opacity:1;stroke-miterlimit:10;\" transform=\"matrix(20,0,0,20,200,200)\"/>\n",
       "<path d=\"M 82.765625 52.901953 L -84.468945 -52.035547 \" style=\"fill:none;stroke-width:0.05;stroke-linecap:round;stroke-linejoin:miter;stroke:rgb(0%,0%,0%);stroke-opacity:1;stroke-miterlimit:10;\" transform=\"matrix(20,0,0,20,200,200)\"/>\n",
       "<path d=\"M 20.644141 57.128516 L -24.852539 -56.091602 \" style=\"fill:none;stroke-width:0.05;stroke-linecap:round;stroke-linejoin:miter;stroke:rgb(0%,0%,0%);stroke-opacity:1;stroke-miterlimit:10;\" transform=\"matrix(20,0,0,20,200,200)\"/>\n",
       "<path d=\"M 96.786719 25.15918 L -98.150977 -23.833789 \" style=\"fill:none;stroke-width:0.05;stroke-linecap:round;stroke-linejoin:miter;stroke:rgb(0%,0%,0%);stroke-opacity:1;stroke-miterlimit:10;\" transform=\"matrix(20,0,0,20,200,200)\"/>\n",
       "</g>\n",
       "</svg>"
      ],
      "text/plain": [
       "<IPython.core.display.SVG object>"
      ]
     },
     "metadata": {},
     "output_type": "display_data"
    },
    {
     "data": {
      "image/svg+xml": [
       "<svg height=\"400pt\" version=\"1.1\" viewBox=\"0 0 400 400\" width=\"400pt\" xmlns=\"http://www.w3.org/2000/svg\" xmlns:xlink=\"http://www.w3.org/1999/xlink\">\n",
       "<g id=\"surface71\">\n",
       "<path d=\"M -69.224805 72.170508 L 68.73457 -74.008203 \" style=\"fill:none;stroke-width:0.05;stroke-linecap:round;stroke-linejoin:miter;stroke:rgb(0%,0%,0%);stroke-opacity:1;stroke-miterlimit:10;\" transform=\"matrix(20,0,0,20,200,200)\"/>\n",
       "<path d=\"M -43.021875 88.308398 L 41.485742 -90.122852 \" style=\"fill:none;stroke-width:0.05;stroke-linecap:round;stroke-linejoin:miter;stroke:rgb(0%,0%,0%);stroke-opacity:1;stroke-miterlimit:10;\" transform=\"matrix(20,0,0,20,200,200)\"/>\n",
       "<path d=\"M -59.933984 -9.887109 L 61.08457 5.708398 \" style=\"fill:none;stroke-width:0.05;stroke-linecap:round;stroke-linejoin:miter;stroke:rgb(0%,0%,0%);stroke-opacity:1;stroke-miterlimit:10;\" transform=\"matrix(20,0,0,20,200,200)\"/>\n",
       "<path d=\"M -86.585938 46.385742 L 86.661719 -48.295313 \" style=\"fill:none;stroke-width:0.05;stroke-linecap:round;stroke-linejoin:miter;stroke:rgb(0%,0%,0%);stroke-opacity:1;stroke-miterlimit:10;\" transform=\"matrix(20,0,0,20,200,200)\"/>\n",
       "<path d=\"M 10.888086 59.722852 L -11.676562 -60.192188 \" style=\"fill:none;stroke-width:0.05;stroke-linecap:round;stroke-linejoin:miter;stroke:rgb(0%,0%,0%);stroke-opacity:1;stroke-miterlimit:10;\" transform=\"matrix(20,0,0,20,200,200)\"/>\n",
       "<path d=\"M 64.755859 61.699609 L -65.990234 -61.694922 \" style=\"fill:none;stroke-width:0.05;stroke-linecap:round;stroke-linejoin:miter;stroke:rgb(0%,0%,0%);stroke-opacity:1;stroke-miterlimit:10;\" transform=\"matrix(20,0,0,20,200,200)\"/>\n",
       "<path d=\"M -64.283594 -62.200195 L 66.4625 61.194531 \" style=\"fill:none;stroke-width:0.05;stroke-linecap:round;stroke-linejoin:miter;stroke:rgb(0%,0%,0%);stroke-opacity:1;stroke-miterlimit:10;\" transform=\"matrix(20,0,0,20,200,200)\"/>\n",
       "<path d=\"M 86.711914 -46.155469 L -86.535547 48.526172 \" style=\"fill:none;stroke-width:0.05;stroke-linecap:round;stroke-linejoin:miter;stroke:rgb(0%,0%,0%);stroke-opacity:1;stroke-miterlimit:10;\" transform=\"matrix(20,0,0,20,200,200)\"/>\n",
       "<path d=\"M -9.117383 -60.056055 L 13.447266 59.858984 \" style=\"fill:none;stroke-width:0.05;stroke-linecap:round;stroke-linejoin:miter;stroke:rgb(0%,0%,0%);stroke-opacity:1;stroke-miterlimit:10;\" transform=\"matrix(20,0,0,20,200,200)\"/>\n",
       "<path d=\"M 42.784766 -88.420703 L -41.723633 90.010156 \" style=\"fill:none;stroke-width:0.05;stroke-linecap:round;stroke-linejoin:miter;stroke:rgb(0%,0%,0%);stroke-opacity:1;stroke-miterlimit:10;\" transform=\"matrix(20,0,0,20,200,200)\"/>\n",
       "<path d=\"M 60.164453 8.100195 L -60.854492 -7.495117 \" style=\"fill:none;stroke-width:0.05;stroke-linecap:round;stroke-linejoin:miter;stroke:rgb(0%,0%,0%);stroke-opacity:1;stroke-miterlimit:10;\" transform=\"matrix(20,0,0,20,200,200)\"/>\n",
       "<path d=\"M 69.225 -72.170312 L -68.73457 74.008203 \" style=\"fill:none;stroke-width:0.05;stroke-linecap:round;stroke-linejoin:miter;stroke:rgb(0%,0%,0%);stroke-opacity:1;stroke-miterlimit:10;\" transform=\"matrix(20,0,0,20,200,200)\"/>\n",
       "</g>\n",
       "</svg>"
      ],
      "text/plain": [
       "<IPython.core.display.SVG object>"
      ]
     },
     "metadata": {},
     "output_type": "display_data"
    },
    {
     "data": {
      "image/svg+xml": [
       "<svg height=\"400pt\" version=\"1.1\" viewBox=\"0 0 400 400\" width=\"400pt\" xmlns=\"http://www.w3.org/2000/svg\" xmlns:xlink=\"http://www.w3.org/1999/xlink\">\n",
       "<g id=\"surface76\">\n",
       "<path d=\"M 25.306445 25.592773 L -31.36543 -18.363281 \" style=\"fill:none;stroke-width:0.05;stroke-linecap:round;stroke-linejoin:miter;stroke:rgb(0%,0%,0%);stroke-opacity:1;stroke-miterlimit:10;\" transform=\"matrix(20,0,0,20,200,200)\"/>\n",
       "<path d=\"M 51.179492 42.791211 L -54.704102 -39.334766 \" style=\"fill:none;stroke-width:0.05;stroke-linecap:round;stroke-linejoin:miter;stroke:rgb(0%,0%,0%);stroke-opacity:1;stroke-miterlimit:10;\" transform=\"matrix(20,0,0,20,200,200)\"/>\n",
       "<path d=\"M 68.106641 -65.204688 L -67.194727 67.481055 \" style=\"fill:none;stroke-width:0.05;stroke-linecap:round;stroke-linejoin:miter;stroke:rgb(0%,0%,0%);stroke-opacity:1;stroke-miterlimit:10;\" transform=\"matrix(20,0,0,20,200,200)\"/>\n",
       "<path d=\"M -48.172852 81.052734 L 46.684961 -83.002148 \" style=\"fill:none;stroke-width:0.05;stroke-linecap:round;stroke-linejoin:miter;stroke:rgb(0%,0%,0%);stroke-opacity:1;stroke-miterlimit:10;\" transform=\"matrix(20,0,0,20,200,200)\"/>\n",
       "<path d=\"M -13.844531 97.245508 L 12.943164 -98.360352 \" style=\"fill:none;stroke-width:0.05;stroke-linecap:round;stroke-linejoin:miter;stroke:rgb(0%,0%,0%);stroke-opacity:1;stroke-miterlimit:10;\" transform=\"matrix(20,0,0,20,200,200)\"/>\n",
       "<path d=\"M 91.139453 -36.633008 L -91.654102 37.971094 \" style=\"fill:none;stroke-width:0.05;stroke-linecap:round;stroke-linejoin:miter;stroke:rgb(0%,0%,0%);stroke-opacity:1;stroke-miterlimit:10;\" transform=\"matrix(20,0,0,20,200,200)\"/>\n",
       "<path d=\"M 14.198047 -97.19707 L -12.589453 98.408789 \" style=\"fill:none;stroke-width:0.05;stroke-linecap:round;stroke-linejoin:miter;stroke:rgb(0%,0%,0%);stroke-opacity:1;stroke-miterlimit:10;\" transform=\"matrix(20,0,0,20,200,200)\"/>\n",
       "<path d=\"M -91.274414 36.302539 L 91.519336 -38.301367 \" style=\"fill:none;stroke-width:0.05;stroke-linecap:round;stroke-linejoin:miter;stroke:rgb(0%,0%,0%);stroke-opacity:1;stroke-miterlimit:10;\" transform=\"matrix(20,0,0,20,200,200)\"/>\n",
       "<path d=\"M 47.600977 -81.383398 L -47.256836 82.671484 \" style=\"fill:none;stroke-width:0.05;stroke-linecap:round;stroke-linejoin:miter;stroke:rgb(0%,0%,0%);stroke-opacity:1;stroke-miterlimit:10;\" transform=\"matrix(20,0,0,20,200,200)\"/>\n",
       "<path d=\"M -52.459375 -41.14043 L 53.423438 40.985156 \" style=\"fill:none;stroke-width:0.05;stroke-linecap:round;stroke-linejoin:miter;stroke:rgb(0%,0%,0%);stroke-opacity:1;stroke-miterlimit:10;\" transform=\"matrix(20,0,0,20,200,200)\"/>\n",
       "<path d=\"M -67.644141 65.676367 L 67.657227 -67.009375 \" style=\"fill:none;stroke-width:0.05;stroke-linecap:round;stroke-linejoin:miter;stroke:rgb(0%,0%,0%);stroke-opacity:1;stroke-miterlimit:10;\" transform=\"matrix(20,0,0,20,200,200)\"/>\n",
       "<path d=\"M -28.304102 -21.727734 L 28.367383 22.22832 \" style=\"fill:none;stroke-width:0.05;stroke-linecap:round;stroke-linejoin:miter;stroke:rgb(0%,0%,0%);stroke-opacity:1;stroke-miterlimit:10;\" transform=\"matrix(20,0,0,20,200,200)\"/>\n",
       "</g>\n",
       "</svg>"
      ],
      "text/plain": [
       "<IPython.core.display.SVG object>"
      ]
     },
     "metadata": {},
     "output_type": "display_data"
    },
    {
     "data": {
      "image/svg+xml": [
       "<svg height=\"400pt\" version=\"1.1\" viewBox=\"0 0 400 400\" width=\"400pt\" xmlns=\"http://www.w3.org/2000/svg\" xmlns:xlink=\"http://www.w3.org/1999/xlink\">\n",
       "<g id=\"surface81\">\n",
       "<path d=\"M 15.891992 -92.062891 L -13.758984 93.35 \" style=\"fill:none;stroke-width:0.05;stroke-linecap:round;stroke-linejoin:miter;stroke:rgb(0%,0%,0%);stroke-opacity:1;stroke-miterlimit:10;\" transform=\"matrix(20,0,0,20,200,200)\"/>\n",
       "<path d=\"M 50.090039 -79.883984 L -48.430859 81.997461 \" style=\"fill:none;stroke-width:0.05;stroke-linecap:round;stroke-linejoin:miter;stroke:rgb(0%,0%,0%);stroke-opacity:1;stroke-miterlimit:10;\" transform=\"matrix(20,0,0,20,200,200)\"/>\n",
       "<path d=\"M 10.8125 -65.78457 L -10.347656 66.53418 \" style=\"fill:none;stroke-width:0.05;stroke-linecap:round;stroke-linejoin:miter;stroke:rgb(0%,0%,0%);stroke-opacity:1;stroke-miterlimit:10;\" transform=\"matrix(20,0,0,20,200,200)\"/>\n",
       "<path d=\"M -20.229102 -92.09375 L 22.89375 92.439258 \" style=\"fill:none;stroke-width:0.05;stroke-linecap:round;stroke-linejoin:miter;stroke:rgb(0%,0%,0%);stroke-opacity:1;stroke-miterlimit:10;\" transform=\"matrix(20,0,0,20,200,200)\"/>\n",
       "<path d=\"M 45.781836 39.92207 L -48.930078 -37.00918 \" style=\"fill:none;stroke-width:0.05;stroke-linecap:round;stroke-linejoin:miter;stroke:rgb(0%,0%,0%);stroke-opacity:1;stroke-miterlimit:10;\" transform=\"matrix(20,0,0,20,200,200)\"/>\n",
       "<path d=\"M 56.758008 -21.535352 L -57.22207 22.02168 \" style=\"fill:none;stroke-width:0.05;stroke-linecap:round;stroke-linejoin:miter;stroke:rgb(0%,0%,0%);stroke-opacity:1;stroke-miterlimit:10;\" transform=\"matrix(20,0,0,20,200,200)\"/>\n",
       "<path d=\"M -47.029297 -38.386133 L 47.682617 38.544922 \" style=\"fill:none;stroke-width:0.05;stroke-linecap:round;stroke-linejoin:miter;stroke:rgb(0%,0%,0%);stroke-opacity:1;stroke-miterlimit:10;\" transform=\"matrix(20,0,0,20,200,200)\"/>\n",
       "<path d=\"M -57.464453 19.6875 L 56.51582 -23.870313 \" style=\"fill:none;stroke-width:0.05;stroke-linecap:round;stroke-linejoin:miter;stroke:rgb(0%,0%,0%);stroke-opacity:1;stroke-miterlimit:10;\" transform=\"matrix(20,0,0,20,200,200)\"/>\n",
       "<path d=\"M 20.749023 91.972266 L -22.372852 -92.560938 \" style=\"fill:none;stroke-width:0.05;stroke-linecap:round;stroke-linejoin:miter;stroke:rgb(0%,0%,0%);stroke-opacity:1;stroke-miterlimit:10;\" transform=\"matrix(20,0,0,20,200,200)\"/>\n",
       "<path d=\"M -49.633008 80.162109 L 48.886914 -81.719922 \" style=\"fill:none;stroke-width:0.05;stroke-linecap:round;stroke-linejoin:miter;stroke:rgb(0%,0%,0%);stroke-opacity:1;stroke-miterlimit:10;\" transform=\"matrix(20,0,0,20,200,200)\"/>\n",
       "<path d=\"M -12.48125 65.517969 L 8.678906 -66.801172 \" style=\"fill:none;stroke-width:0.05;stroke-linecap:round;stroke-linejoin:miter;stroke:rgb(0%,0%,0%);stroke-opacity:1;stroke-miterlimit:10;\" transform=\"matrix(20,0,0,20,200,200)\"/>\n",
       "<path d=\"M -15.321484 92.153906 L 14.328906 -93.258789 \" style=\"fill:none;stroke-width:0.05;stroke-linecap:round;stroke-linejoin:miter;stroke:rgb(0%,0%,0%);stroke-opacity:1;stroke-miterlimit:10;\" transform=\"matrix(20,0,0,20,200,200)\"/>\n",
       "</g>\n",
       "</svg>"
      ],
      "text/plain": [
       "<IPython.core.display.SVG object>"
      ]
     },
     "metadata": {},
     "output_type": "display_data"
    },
    {
     "data": {
      "image/svg+xml": [
       "<svg height=\"400pt\" version=\"1.1\" viewBox=\"0 0 400 400\" width=\"400pt\" xmlns=\"http://www.w3.org/2000/svg\" xmlns:xlink=\"http://www.w3.org/1999/xlink\">\n",
       "<g id=\"surface86\">\n",
       "<path d=\"M -33.509766 -13.13418 L 36.117188 4.068945 \" style=\"fill:none;stroke-width:0.05;stroke-linecap:round;stroke-linejoin:miter;stroke:rgb(0%,0%,0%);stroke-opacity:1;stroke-miterlimit:10;\" transform=\"matrix(20,0,0,20,200,200)\"/>\n",
       "<path d=\"M 11.17207 -93.623438 L -9.021484 94.802148 \" style=\"fill:none;stroke-width:0.05;stroke-linecap:round;stroke-linejoin:miter;stroke:rgb(0%,0%,0%);stroke-opacity:1;stroke-miterlimit:10;\" transform=\"matrix(20,0,0,20,200,200)\"/>\n",
       "<path d=\"M -64.133789 -18.364844 L 65.954297 13.776172 \" style=\"fill:none;stroke-width:0.05;stroke-linecap:round;stroke-linejoin:miter;stroke:rgb(0%,0%,0%);stroke-opacity:1;stroke-miterlimit:10;\" transform=\"matrix(20,0,0,20,200,200)\"/>\n",
       "<path d=\"M -35.819531 87.218945 L 34.062891 -88.930078 \" style=\"fill:none;stroke-width:0.05;stroke-linecap:round;stroke-linejoin:miter;stroke:rgb(0%,0%,0%);stroke-opacity:1;stroke-miterlimit:10;\" transform=\"matrix(20,0,0,20,200,200)\"/>\n",
       "<path d=\"M 26.430664 94.606055 L -28.392383 -95.061328 \" style=\"fill:none;stroke-width:0.05;stroke-linecap:round;stroke-linejoin:miter;stroke:rgb(0%,0%,0%);stroke-opacity:1;stroke-miterlimit:10;\" transform=\"matrix(20,0,0,20,200,200)\"/>\n",
       "<path d=\"M 68.716016 -70.192578 L -68.129492 72.119141 \" style=\"fill:none;stroke-width:0.05;stroke-linecap:round;stroke-linejoin:miter;stroke:rgb(0%,0%,0%);stroke-opacity:1;stroke-miterlimit:10;\" transform=\"matrix(20,0,0,20,200,200)\"/>\n",
       "<path d=\"M -26.773438 -94.506836 L 28.049414 95.160547 \" style=\"fill:none;stroke-width:0.05;stroke-linecap:round;stroke-linejoin:miter;stroke:rgb(0%,0%,0%);stroke-opacity:1;stroke-miterlimit:10;\" transform=\"matrix(20,0,0,20,200,200)\"/>\n",
       "<path d=\"M -68.458594 70.439844 L 68.386719 -71.871875 \" style=\"fill:none;stroke-width:0.05;stroke-linecap:round;stroke-linejoin:miter;stroke:rgb(0%,0%,0%);stroke-opacity:1;stroke-miterlimit:10;\" transform=\"matrix(20,0,0,20,200,200)\"/>\n",
       "<path d=\"M 64.63457 16.336914 L -65.45293 -15.804102 \" style=\"fill:none;stroke-width:0.05;stroke-linecap:round;stroke-linejoin:miter;stroke:rgb(0%,0%,0%);stroke-opacity:1;stroke-miterlimit:10;\" transform=\"matrix(20,0,0,20,200,200)\"/>\n",
       "<path d=\"M 35.205469 -87.4625 L -34.676953 88.686328 \" style=\"fill:none;stroke-width:0.05;stroke-linecap:round;stroke-linejoin:miter;stroke:rgb(0%,0%,0%);stroke-opacity:1;stroke-miterlimit:10;\" transform=\"matrix(20,0,0,20,200,200)\"/>\n",
       "<path d=\"M -10.515039 93.693945 L 9.678125 -94.731836 \" style=\"fill:none;stroke-width:0.05;stroke-linecap:round;stroke-linejoin:miter;stroke:rgb(0%,0%,0%);stroke-opacity:1;stroke-miterlimit:10;\" transform=\"matrix(20,0,0,20,200,200)\"/>\n",
       "<path d=\"M 34.683398 8.385352 L -34.944141 -8.817383 \" style=\"fill:none;stroke-width:0.05;stroke-linecap:round;stroke-linejoin:miter;stroke:rgb(0%,0%,0%);stroke-opacity:1;stroke-miterlimit:10;\" transform=\"matrix(20,0,0,20,200,200)\"/>\n",
       "</g>\n",
       "</svg>"
      ],
      "text/plain": [
       "<IPython.core.display.SVG object>"
      ]
     },
     "metadata": {},
     "output_type": "display_data"
    },
    {
     "data": {
      "image/svg+xml": [
       "<svg height=\"400pt\" version=\"1.1\" viewBox=\"0 0 400 400\" width=\"400pt\" xmlns=\"http://www.w3.org/2000/svg\" xmlns:xlink=\"http://www.w3.org/1999/xlink\">\n",
       "<g id=\"surface91\">\n",
       "<path d=\"M -51.594922 77.884961 L 50.160156 -79.92168 \" style=\"fill:none;stroke-width:0.05;stroke-linecap:round;stroke-linejoin:miter;stroke:rgb(0%,0%,0%);stroke-opacity:1;stroke-miterlimit:10;\" transform=\"matrix(20,0,0,20,200,200)\"/>\n",
       "<path d=\"M -18.539844 92.448633 L 16.239648 -93.837109 \" style=\"fill:none;stroke-width:0.05;stroke-linecap:round;stroke-linejoin:miter;stroke:rgb(0%,0%,0%);stroke-opacity:1;stroke-miterlimit:10;\" transform=\"matrix(20,0,0,20,200,200)\"/>\n",
       "<path d=\"M -78.001172 52.974414 L 77.332617 -55.576758 \" style=\"fill:none;stroke-width:0.05;stroke-linecap:round;stroke-linejoin:miter;stroke:rgb(0%,0%,0%);stroke-opacity:1;stroke-miterlimit:10;\" transform=\"matrix(20,0,0,20,200,200)\"/>\n",
       "<path d=\"M -36.370508 55.872461 L 36.24668 -56.745508 \" style=\"fill:none;stroke-width:0.05;stroke-linecap:round;stroke-linejoin:miter;stroke:rgb(0%,0%,0%);stroke-opacity:1;stroke-miterlimit:10;\" transform=\"matrix(20,0,0,20,200,200)\"/>\n",
       "<path d=\"M 27.606641 54.066016 L -28.14082 -54.474219 \" style=\"fill:none;stroke-width:0.05;stroke-linecap:round;stroke-linejoin:miter;stroke:rgb(0%,0%,0%);stroke-opacity:1;stroke-miterlimit:10;\" transform=\"matrix(20,0,0,20,200,200)\"/>\n",
       "<path d=\"M 60.528906 5.100781 L -61.34375 -0.889844 \" style=\"fill:none;stroke-width:0.05;stroke-linecap:round;stroke-linejoin:miter;stroke:rgb(0%,0%,0%);stroke-opacity:1;stroke-miterlimit:10;\" transform=\"matrix(20,0,0,20,200,200)\"/>\n",
       "<path d=\"M -25.84668 -54.970117 L 29.900781 53.570117 \" style=\"fill:none;stroke-width:0.05;stroke-linecap:round;stroke-linejoin:miter;stroke:rgb(0%,0%,0%);stroke-opacity:1;stroke-miterlimit:10;\" transform=\"matrix(20,0,0,20,200,200)\"/>\n",
       "<path d=\"M -60.625977 -3.124805 L 61.246484 2.866211 \" style=\"fill:none;stroke-width:0.05;stroke-linecap:round;stroke-linejoin:miter;stroke:rgb(0%,0%,0%);stroke-opacity:1;stroke-miterlimit:10;\" transform=\"matrix(20,0,0,20,200,200)\"/>\n",
       "<path d=\"M 77.694727 -53.412891 L -77.638477 55.139258 \" style=\"fill:none;stroke-width:0.05;stroke-linecap:round;stroke-linejoin:miter;stroke:rgb(0%,0%,0%);stroke-opacity:1;stroke-miterlimit:10;\" transform=\"matrix(20,0,0,20,200,200)\"/>\n",
       "<path d=\"M 37.79082 -54.956641 L -34.826367 57.661328 \" style=\"fill:none;stroke-width:0.05;stroke-linecap:round;stroke-linejoin:miter;stroke:rgb(0%,0%,0%);stroke-opacity:1;stroke-miterlimit:10;\" transform=\"matrix(20,0,0,20,200,200)\"/>\n",
       "<path d=\"M 18.015039 -92.546484 L -16.76543 93.738867 \" style=\"fill:none;stroke-width:0.05;stroke-linecap:round;stroke-linejoin:miter;stroke:rgb(0%,0%,0%);stroke-opacity:1;stroke-miterlimit:10;\" transform=\"matrix(20,0,0,20,200,200)\"/>\n",
       "<path d=\"M 51.109766 -78.197852 L -50.645703 79.608594 \" style=\"fill:none;stroke-width:0.05;stroke-linecap:round;stroke-linejoin:miter;stroke:rgb(0%,0%,0%);stroke-opacity:1;stroke-miterlimit:10;\" transform=\"matrix(20,0,0,20,200,200)\"/>\n",
       "</g>\n",
       "</svg>"
      ],
      "text/plain": [
       "<IPython.core.display.SVG object>"
      ]
     },
     "metadata": {},
     "output_type": "display_data"
    },
    {
     "data": {
      "image/svg+xml": [
       "<svg height=\"400pt\" version=\"1.1\" viewBox=\"0 0 400 400\" width=\"400pt\" xmlns=\"http://www.w3.org/2000/svg\" xmlns:xlink=\"http://www.w3.org/1999/xlink\">\n",
       "<g id=\"surface96\">\n",
       "<path d=\"M 30.148047 19.666602 L -34.55625 -11.275391 \" style=\"fill:none;stroke-width:0.05;stroke-linecap:round;stroke-linejoin:miter;stroke:rgb(0%,0%,0%);stroke-opacity:1;stroke-miterlimit:10;\" transform=\"matrix(20,0,0,20,200,200)\"/>\n",
       "<path d=\"M 41.310742 -83.794141 L -39.696484 85.601758 \" style=\"fill:none;stroke-width:0.05;stroke-linecap:round;stroke-linejoin:miter;stroke:rgb(0%,0%,0%);stroke-opacity:1;stroke-miterlimit:10;\" transform=\"matrix(20,0,0,20,200,200)\"/>\n",
       "<path d=\"M -30.147461 -19.666797 L 34.555859 11.275391 \" style=\"fill:none;stroke-width:0.05;stroke-linecap:round;stroke-linejoin:miter;stroke:rgb(0%,0%,0%);stroke-opacity:1;stroke-miterlimit:10;\" transform=\"matrix(20,0,0,20,200,200)\"/>\n",
       "<path d=\"M -41.310547 83.794141 L 39.696289 -85.601562 \" style=\"fill:none;stroke-width:0.05;stroke-linecap:round;stroke-linejoin:miter;stroke:rgb(0%,0%,0%);stroke-opacity:1;stroke-miterlimit:10;\" transform=\"matrix(20,0,0,20,200,200)\"/>\n",
       "<path d=\"M 10.046094 99.496484 L -11.521875 -100.342969 \" style=\"fill:none;stroke-width:0.05;stroke-linecap:round;stroke-linejoin:miter;stroke:rgb(0%,0%,0%);stroke-opacity:1;stroke-miterlimit:10;\" transform=\"matrix(20,0,0,20,200,200)\"/>\n",
       "<path d=\"M 84.499609 -53.481641 L -84.596875 55.180273 \" style=\"fill:none;stroke-width:0.05;stroke-linecap:round;stroke-linejoin:miter;stroke:rgb(0%,0%,0%);stroke-opacity:1;stroke-miterlimit:10;\" transform=\"matrix(20,0,0,20,200,200)\"/>\n",
       "<path d=\"M -10.046094 -99.496484 L 11.521875 100.342969 \" style=\"fill:none;stroke-width:0.05;stroke-linecap:round;stroke-linejoin:miter;stroke:rgb(0%,0%,0%);stroke-opacity:1;stroke-miterlimit:10;\" transform=\"matrix(20,0,0,20,200,200)\"/>\n",
       "<path d=\"M -84.499609 53.481641 L 84.596875 -55.180273 \" style=\"fill:none;stroke-width:0.05;stroke-linecap:round;stroke-linejoin:miter;stroke:rgb(0%,0%,0%);stroke-opacity:1;stroke-miterlimit:10;\" transform=\"matrix(20,0,0,20,200,200)\"/>\n",
       "<path d=\"M 31.974609 15.844922 L -32.72793 -15.096875 \" style=\"fill:none;stroke-width:0.05;stroke-linecap:round;stroke-linejoin:miter;stroke:rgb(0%,0%,0%);stroke-opacity:1;stroke-miterlimit:10;\" transform=\"matrix(20,0,0,20,200,200)\"/>\n",
       "<path d=\"M 40.75293 -84.060742 L -40.253711 85.334961 \" style=\"fill:none;stroke-width:0.05;stroke-linecap:round;stroke-linejoin:miter;stroke:rgb(0%,0%,0%);stroke-opacity:1;stroke-miterlimit:10;\" transform=\"matrix(20,0,0,20,200,200)\"/>\n",
       "<path d=\"M -31.975195 -15.844922 L 32.728516 15.09668 \" style=\"fill:none;stroke-width:0.05;stroke-linecap:round;stroke-linejoin:miter;stroke:rgb(0%,0%,0%);stroke-opacity:1;stroke-miterlimit:10;\" transform=\"matrix(20,0,0,20,200,200)\"/>\n",
       "<path d=\"M -40.75293 84.060742 L 40.253906 -85.334961 \" style=\"fill:none;stroke-width:0.05;stroke-linecap:round;stroke-linejoin:miter;stroke:rgb(0%,0%,0%);stroke-opacity:1;stroke-miterlimit:10;\" transform=\"matrix(20,0,0,20,200,200)\"/>\n",
       "</g>\n",
       "</svg>"
      ],
      "text/plain": [
       "<IPython.core.display.SVG object>"
      ]
     },
     "metadata": {},
     "output_type": "display_data"
    }
   ],
   "source": [
    "poly = netlib[135]\n",
    "for i in range(len(poly.faces)):\n",
    "    stellation_diagram(netlib[135], i)"
   ]
  },
  {
   "cell_type": "code",
   "execution_count": null,
   "metadata": {},
   "outputs": [],
   "source": []
  }
 ],
 "metadata": {
  "kernelspec": {
   "display_name": "Python 3",
   "language": "python",
   "name": "python3"
  },
  "language_info": {
   "codemirror_mode": {
    "name": "ipython",
    "version": 3
   },
   "file_extension": ".py",
   "mimetype": "text/x-python",
   "name": "python",
   "nbconvert_exporter": "python",
   "pygments_lexer": "ipython3",
   "version": "3.7.2rc1"
  }
 },
 "nbformat": 4,
 "nbformat_minor": 2
}
