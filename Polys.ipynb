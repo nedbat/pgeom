{
 "cells": [
  {
   "cell_type": "code",
   "execution_count": 1,
   "metadata": {},
   "outputs": [],
   "source": [
    "from polys import *\n",
    "from pprint import pprint as pp\n",
    "\n",
    "with open(\"netlib/icosahedron.netlib\") as dat:\n",
    "    icosa = read_netlib(dat)\n",
    "with open(\"../polyhedra/netlib_polyhedra/p3.txt\") as dat:\n",
    "    dodeca = read_netlib(dat)\n",
    "with open(\"../polyhedra/netlib_polyhedra/p0.txt\") as dat:\n",
    "    tetra = read_netlib(dat)\n",
    "netlib = []\n",
    "for i in range(142):\n",
    "    with open(f\"../polyhedra/netlib_polyhedra/p{i}.txt\") as dat:\n",
    "        netlib.append(read_netlib(dat))"
   ]
  },
  {
   "cell_type": "code",
   "execution_count": 2,
   "metadata": {},
   "outputs": [],
   "source": [
    "if 0:\n",
    "    for i in range(142):\n",
    "        with open(f\"../polyhedra/netlib_polyhedra/p{i}.txt\") as dat:\n",
    "            poly = read_netlib(dat)\n",
    "            print(f\"{i}: {poly.name}\")\n",
    "            wire_frame(sit_polyhedron(poly), width=100, height=100, debug_origin=True)"
   ]
  },
  {
   "cell_type": "code",
   "execution_count": 32,
   "metadata": {},
   "outputs": [
    {
     "data": {
      "image/svg+xml": [
       "<svg height=\"200pt\" version=\"1.1\" viewBox=\"0 0 200 200\" width=\"200pt\" xmlns=\"http://www.w3.org/2000/svg\" xmlns:xlink=\"http://www.w3.org/1999/xlink\">\n",
       "<g id=\"surface291\">\n",
       "<path d=\"M -0.867834 -2.588789 L -1.386657 -1.755597 \" style=\"fill:none;stroke-width:0.02;stroke-linecap:round;stroke-linejoin:miter;stroke:rgb(0%,0%,0%);stroke-opacity:1;stroke-miterlimit:10;\" transform=\"matrix(63.545182,0,0,63.545182,171.869295,261.719918)\"/>\n",
       "<path d=\"M -1.457166 -3.334322 L -1.084031 -3.904843 \" style=\"fill:none;stroke-width:0.02;stroke-linecap:round;stroke-linejoin:miter;stroke:rgb(0%,0%,0%);stroke-opacity:1;stroke-miterlimit:10;\" transform=\"matrix(63.545182,0,0,63.545182,171.869295,261.719918)\"/>\n",
       "<path d=\"M -1.084031 -3.904843 L -1.972055 -3.460093 \" style=\"fill:none;stroke-width:0.02;stroke-linecap:round;stroke-linejoin:miter;stroke:rgb(0%,0%,0%);stroke-opacity:1;stroke-miterlimit:10;\" transform=\"matrix(63.545182,0,0,63.545182,171.869295,261.719918)\"/>\n",
       "<path d=\"M -1.457166 -3.334322 L -1.972055 -3.460093 \" style=\"fill:none;stroke-width:0.02;stroke-linecap:round;stroke-linejoin:miter;stroke:rgb(0%,0%,0%);stroke-opacity:1;stroke-miterlimit:10;\" transform=\"matrix(63.545182,0,0,63.545182,171.869295,261.719918)\"/>\n",
       "<path d=\"M -1.838477 -2.646757 L -1.386657 -1.755597 \" style=\"fill:none;stroke-width:0.02;stroke-linecap:round;stroke-linejoin:miter;stroke:rgb(0%,0%,0%);stroke-opacity:1;stroke-miterlimit:10;\" transform=\"matrix(63.545182,0,0,63.545182,171.869295,261.719918)\"/>\n",
       "<path d=\"M -1.838477 -2.646757 L -2.490879 -2.626963 \" style=\"fill:none;stroke-width:0.02;stroke-linecap:round;stroke-linejoin:miter;stroke:rgb(0%,0%,0%);stroke-opacity:1;stroke-miterlimit:10;\" transform=\"matrix(63.545182,0,0,63.545182,171.869295,261.719918)\"/>\n",
       "<path d=\"M -1.972055 -3.460093 L -1.838477 -2.646757 \" style=\"fill:none;stroke-width:0.02;stroke-linecap:round;stroke-linejoin:miter;stroke:rgb(0%,0%,0%);stroke-opacity:1;stroke-miterlimit:10;\" transform=\"matrix(63.545182,0,0,63.545182,171.869295,261.719918)\"/>\n",
       "<path d=\"M -0.871829 -1.629826 L -0.353005 -2.462956 \" style=\"fill:none;stroke-width:0.02;stroke-linecap:round;stroke-linejoin:miter;stroke:rgb(0%,0%,0%);stroke-opacity:1;stroke-miterlimit:10;\" transform=\"matrix(63.545182,0,0,63.545182,171.869295,261.719918)\"/>\n",
       "<path d=\"M -2.442316 -1.723571 L -1.975989 -2.50113 \" style=\"fill:none;stroke-width:0.02;stroke-linecap:round;stroke-linejoin:miter;stroke:rgb(0%,0%,0%);stroke-opacity:1;stroke-miterlimit:10;\" transform=\"matrix(63.545182,0,0,63.545182,171.869295,261.719918)\"/>\n",
       "<path d=\"M -2.490879 -2.626963 L -2.442316 -1.723571 \" style=\"fill:none;stroke-width:0.02;stroke-linecap:round;stroke-linejoin:miter;stroke:rgb(0%,0%,0%);stroke-opacity:1;stroke-miterlimit:10;\" transform=\"matrix(63.545182,0,0,63.545182,171.869295,261.719918)\"/>\n",
       "<path d=\"M -1.975989 -2.50113 L -1.457166 -3.334322 \" style=\"fill:none;stroke-width:0.02;stroke-linecap:round;stroke-linejoin:miter;stroke:rgb(0%,0%,0%);stroke-opacity:1;stroke-miterlimit:10;\" transform=\"matrix(63.545182,0,0,63.545182,171.869295,261.719918)\"/>\n",
       "<path d=\"M -1.005408 -2.443162 L -1.457166 -3.334322 \" style=\"fill:none;stroke-width:0.02;stroke-linecap:round;stroke-linejoin:miter;stroke:rgb(0%,0%,0%);stroke-opacity:1;stroke-miterlimit:10;\" transform=\"matrix(63.545182,0,0,63.545182,171.869295,261.719918)\"/>\n",
       "<path d=\"M -0.401568 -3.366349 L -0.867834 -2.588789 \" style=\"fill:none;stroke-width:0.02;stroke-linecap:round;stroke-linejoin:miter;stroke:rgb(0%,0%,0%);stroke-opacity:1;stroke-miterlimit:10;\" transform=\"matrix(63.545182,0,0,63.545182,171.869295,261.719918)\"/>\n",
       "<path d=\"M -0.353005 -2.462956 L -0.867834 -2.588789 \" style=\"fill:none;stroke-width:0.02;stroke-linecap:round;stroke-linejoin:miter;stroke:rgb(0%,0%,0%);stroke-opacity:1;stroke-miterlimit:10;\" transform=\"matrix(63.545182,0,0,63.545182,171.869295,261.719918)\"/>\n",
       "<path d=\"M -2.442316 -1.723571 L -1.759854 -1.185076 \" style=\"fill:none;stroke-width:0.02;stroke-linecap:round;stroke-linejoin:miter;stroke:rgb(0%,0%,0%);stroke-opacity:1;stroke-miterlimit:10;\" transform=\"matrix(63.545182,0,0,63.545182,171.869295,261.719918)\"/>\n",
       "<path d=\"M -0.871829 -1.629826 L -1.005408 -2.443162 \" style=\"fill:none;stroke-width:0.02;stroke-linecap:round;stroke-linejoin:miter;stroke:rgb(0%,0%,0%);stroke-opacity:1;stroke-miterlimit:10;\" transform=\"matrix(63.545182,0,0,63.545182,171.869295,261.719918)\"/>\n",
       "<path d=\"M -1.975989 -2.50113 L -1.005408 -2.443162 \" style=\"fill:none;stroke-width:0.02;stroke-linecap:round;stroke-linejoin:miter;stroke:rgb(0%,0%,0%);stroke-opacity:1;stroke-miterlimit:10;\" transform=\"matrix(63.545182,0,0,63.545182,171.869295,261.719918)\"/>\n",
       "<path d=\"M -0.353005 -2.462956 L -0.401568 -3.366349 \" style=\"fill:none;stroke-width:0.02;stroke-linecap:round;stroke-linejoin:miter;stroke:rgb(0%,0%,0%);stroke-opacity:1;stroke-miterlimit:10;\" transform=\"matrix(63.545182,0,0,63.545182,171.869295,261.719918)\"/>\n",
       "<path d=\"M -1.972055 -3.460093 L -2.490879 -2.626963 \" style=\"fill:none;stroke-width:0.02;stroke-linecap:round;stroke-linejoin:miter;stroke:rgb(0%,0%,0%);stroke-opacity:1;stroke-miterlimit:10;\" transform=\"matrix(63.545182,0,0,63.545182,171.869295,261.719918)\"/>\n",
       "<path d=\"M -1.759854 -1.185076 L -0.871829 -1.629826 \" style=\"fill:none;stroke-width:0.02;stroke-linecap:round;stroke-linejoin:miter;stroke:rgb(0%,0%,0%);stroke-opacity:1;stroke-miterlimit:10;\" transform=\"matrix(63.545182,0,0,63.545182,171.869295,261.719918)\"/>\n",
       "<path d=\"M -0.867834 -2.588789 L -1.838477 -2.646757 \" style=\"fill:none;stroke-width:0.02;stroke-linecap:round;stroke-linejoin:miter;stroke:rgb(0%,0%,0%);stroke-opacity:1;stroke-miterlimit:10;\" transform=\"matrix(63.545182,0,0,63.545182,171.869295,261.719918)\"/>\n",
       "<path d=\"M -1.386657 -1.755597 L -0.871829 -1.629826 \" style=\"fill:none;stroke-width:0.02;stroke-linecap:round;stroke-linejoin:miter;stroke:rgb(0%,0%,0%);stroke-opacity:1;stroke-miterlimit:10;\" transform=\"matrix(63.545182,0,0,63.545182,171.869295,261.719918)\"/>\n",
       "<path d=\"M -2.490879 -2.626963 L -1.975989 -2.50113 \" style=\"fill:none;stroke-width:0.02;stroke-linecap:round;stroke-linejoin:miter;stroke:rgb(0%,0%,0%);stroke-opacity:1;stroke-miterlimit:10;\" transform=\"matrix(63.545182,0,0,63.545182,171.869295,261.719918)\"/>\n",
       "<path d=\"M -1.386657 -1.755597 L -1.759854 -1.185076 \" style=\"fill:none;stroke-width:0.02;stroke-linecap:round;stroke-linejoin:miter;stroke:rgb(0%,0%,0%);stroke-opacity:1;stroke-miterlimit:10;\" transform=\"matrix(63.545182,0,0,63.545182,171.869295,261.719918)\"/>\n",
       "<path d=\"M -1.084031 -3.904843 L -0.401568 -3.366349 \" style=\"fill:none;stroke-width:0.02;stroke-linecap:round;stroke-linejoin:miter;stroke:rgb(0%,0%,0%);stroke-opacity:1;stroke-miterlimit:10;\" transform=\"matrix(63.545182,0,0,63.545182,171.869295,261.719918)\"/>\n",
       "<path d=\"M -1.005408 -2.443162 L -0.353005 -2.462956 \" style=\"fill:none;stroke-width:0.02;stroke-linecap:round;stroke-linejoin:miter;stroke:rgb(0%,0%,0%);stroke-opacity:1;stroke-miterlimit:10;\" transform=\"matrix(63.545182,0,0,63.545182,171.869295,261.719918)\"/>\n",
       "</g>\n",
       "</svg>"
      ],
      "text/plain": [
       "<IPython.core.display.SVG object>"
      ]
     },
     "metadata": {},
     "output_type": "display_data"
    },
    {
     "data": {
      "image/svg+xml": [
       "<svg height=\"200pt\" version=\"1.1\" viewBox=\"0 0 200 200\" width=\"200pt\" xmlns=\"http://www.w3.org/2000/svg\" xmlns:xlink=\"http://www.w3.org/1999/xlink\">\n",
       "<g id=\"surface296\">\n",
       "<path d=\"M 0.0738596 -0.70322 L 1.017213 -0.823857 \" style=\"fill:none;stroke-width:0.02;stroke-linecap:round;stroke-linejoin:miter;stroke:rgb(0%,0%,0%);stroke-opacity:1;stroke-miterlimit:10;\" transform=\"matrix(81.921821,0,0,81.921821,100.000065,84.159856)\"/>\n",
       "<path d=\"M 1.017213 -0.823857 L 0.703223 0.0738641 \" style=\"fill:none;stroke-width:0.02;stroke-linecap:round;stroke-linejoin:miter;stroke:rgb(0%,0%,0%);stroke-opacity:1;stroke-miterlimit:10;\" transform=\"matrix(81.921821,0,0,81.921821,100.000065,84.159856)\"/>\n",
       "<path d=\"M -0.0738612 0.703227 L -0.703225 -0.0738568 \" style=\"fill:none;stroke-width:0.02;stroke-linecap:round;stroke-linejoin:miter;stroke:rgb(0%,0%,0%);stroke-opacity:1;stroke-miterlimit:10;\" transform=\"matrix(81.921821,0,0,81.921821,100.000065,84.159856)\"/>\n",
       "<path d=\"M 0.0738596 -0.70322 L 0.703223 0.0738641 \" style=\"fill:none;stroke-width:0.02;stroke-linecap:round;stroke-linejoin:miter;stroke:rgb(0%,0%,0%);stroke-opacity:1;stroke-miterlimit:10;\" transform=\"matrix(81.921821,0,0,81.921821,100.000065,84.159856)\"/>\n",
       "<path d=\"M 0.509202 0.628699 L -0.0738612 0.703227 \" style=\"fill:none;stroke-width:0.02;stroke-linecap:round;stroke-linejoin:miter;stroke:rgb(0%,0%,0%);stroke-opacity:1;stroke-miterlimit:10;\" transform=\"matrix(81.921821,0,0,81.921821,100.000065,84.159856)\"/>\n",
       "<path d=\"M -0.703225 -0.0738568 L -0.509204 -0.628692 \" style=\"fill:none;stroke-width:0.02;stroke-linecap:round;stroke-linejoin:miter;stroke:rgb(0%,0%,0%);stroke-opacity:1;stroke-miterlimit:10;\" transform=\"matrix(81.921821,0,0,81.921821,100.000065,84.159856)\"/>\n",
       "<path d=\"M 1.017213 -0.823857 L 1.017213 -0.823857 \" style=\"fill:none;stroke-width:0.02;stroke-linecap:round;stroke-linejoin:miter;stroke:rgb(0%,0%,0%);stroke-opacity:1;stroke-miterlimit:10;\" transform=\"matrix(81.921821,0,0,81.921821,100.000065,84.159856)\"/>\n",
       "<path d=\"M 0.703223 0.0738641 L 0.509202 0.628699 \" style=\"fill:none;stroke-width:0.02;stroke-linecap:round;stroke-linejoin:miter;stroke:rgb(0%,0%,0%);stroke-opacity:1;stroke-miterlimit:10;\" transform=\"matrix(81.921821,0,0,81.921821,100.000065,84.159856)\"/>\n",
       "<path d=\"M -0.509204 -0.628692 L 0.0738596 -0.70322 \" style=\"fill:none;stroke-width:0.02;stroke-linecap:round;stroke-linejoin:miter;stroke:rgb(0%,0%,0%);stroke-opacity:1;stroke-miterlimit:10;\" transform=\"matrix(81.921821,0,0,81.921821,100.000065,84.159856)\"/>\n",
       "<path d=\"M 0.703223 0.0738641 L -0.0738612 0.703227 \" style=\"fill:none;stroke-width:0.02;stroke-linecap:round;stroke-linejoin:miter;stroke:rgb(0%,0%,0%);stroke-opacity:1;stroke-miterlimit:10;\" transform=\"matrix(81.921821,0,0,81.921821,100.000065,84.159856)\"/>\n",
       "<path d=\"M -0.0738612 0.703227 L -0.703225 -0.0738568 \" style=\"fill:none;stroke-width:0.02;stroke-linecap:round;stroke-linejoin:miter;stroke:rgb(0%,0%,0%);stroke-opacity:1;stroke-miterlimit:10;\" transform=\"matrix(81.921821,0,0,81.921821,100.000065,84.159856)\"/>\n",
       "<path d=\"M -0.703225 -0.0738568 L -0.509204 -0.628692 \" style=\"fill:none;stroke-width:0.02;stroke-linecap:round;stroke-linejoin:miter;stroke:rgb(0%,0%,0%);stroke-opacity:1;stroke-miterlimit:10;\" transform=\"matrix(81.921821,0,0,81.921821,100.000065,84.159856)\"/>\n",
       "<path d=\"M -1.017215 0.823865 L -0.703225 -0.0738568 \" style=\"fill:none;stroke-width:0.02;stroke-linecap:round;stroke-linejoin:miter;stroke:rgb(0%,0%,0%);stroke-opacity:1;stroke-miterlimit:10;\" transform=\"matrix(81.921821,0,0,81.921821,100.000065,84.159856)\"/>\n",
       "<path d=\"M -1.017215 0.823865 L -1.017215 0.823865 \" style=\"fill:none;stroke-width:0.02;stroke-linecap:round;stroke-linejoin:miter;stroke:rgb(0%,0%,0%);stroke-opacity:1;stroke-miterlimit:10;\" transform=\"matrix(81.921821,0,0,81.921821,100.000065,84.159856)\"/>\n",
       "<path d=\"M 0.703223 0.0738641 L -0.0738612 0.703227 \" style=\"fill:none;stroke-width:0.02;stroke-linecap:round;stroke-linejoin:miter;stroke:rgb(0%,0%,0%);stroke-opacity:1;stroke-miterlimit:10;\" transform=\"matrix(81.921821,0,0,81.921821,100.000065,84.159856)\"/>\n",
       "<path d=\"M -0.703225 -0.0738568 L 0.0738596 -0.70322 \" style=\"fill:none;stroke-width:0.02;stroke-linecap:round;stroke-linejoin:miter;stroke:rgb(0%,0%,0%);stroke-opacity:1;stroke-miterlimit:10;\" transform=\"matrix(81.921821,0,0,81.921821,100.000065,84.159856)\"/>\n",
       "<path d=\"M 0.703223 0.0738641 L 0.509202 0.628699 \" style=\"fill:none;stroke-width:0.02;stroke-linecap:round;stroke-linejoin:miter;stroke:rgb(0%,0%,0%);stroke-opacity:1;stroke-miterlimit:10;\" transform=\"matrix(81.921821,0,0,81.921821,100.000065,84.159856)\"/>\n",
       "<path d=\"M -0.509204 -0.628692 L 0.0738596 -0.70322 \" style=\"fill:none;stroke-width:0.02;stroke-linecap:round;stroke-linejoin:miter;stroke:rgb(0%,0%,0%);stroke-opacity:1;stroke-miterlimit:10;\" transform=\"matrix(81.921821,0,0,81.921821,100.000065,84.159856)\"/>\n",
       "<path d=\"M 0.0738596 -0.70322 L 1.017213 -0.823857 \" style=\"fill:none;stroke-width:0.02;stroke-linecap:round;stroke-linejoin:miter;stroke:rgb(0%,0%,0%);stroke-opacity:1;stroke-miterlimit:10;\" transform=\"matrix(81.921821,0,0,81.921821,100.000065,84.159856)\"/>\n",
       "<path d=\"M 1.017213 -0.823857 L 0.703223 0.0738641 \" style=\"fill:none;stroke-width:0.02;stroke-linecap:round;stroke-linejoin:miter;stroke:rgb(0%,0%,0%);stroke-opacity:1;stroke-miterlimit:10;\" transform=\"matrix(81.921821,0,0,81.921821,100.000065,84.159856)\"/>\n",
       "<path d=\"M 0.0738596 -0.70322 L 0.703223 0.0738641 \" style=\"fill:none;stroke-width:0.02;stroke-linecap:round;stroke-linejoin:miter;stroke:rgb(0%,0%,0%);stroke-opacity:1;stroke-miterlimit:10;\" transform=\"matrix(81.921821,0,0,81.921821,100.000065,84.159856)\"/>\n",
       "<path d=\"M -0.0738612 0.703227 L -1.017215 0.823865 \" style=\"fill:none;stroke-width:0.02;stroke-linecap:round;stroke-linejoin:miter;stroke:rgb(0%,0%,0%);stroke-opacity:1;stroke-miterlimit:10;\" transform=\"matrix(81.921821,0,0,81.921821,100.000065,84.159856)\"/>\n",
       "<path d=\"M -1.017215 0.823865 L -0.703225 -0.0738568 \" style=\"fill:none;stroke-width:0.02;stroke-linecap:round;stroke-linejoin:miter;stroke:rgb(0%,0%,0%);stroke-opacity:1;stroke-miterlimit:10;\" transform=\"matrix(81.921821,0,0,81.921821,100.000065,84.159856)\"/>\n",
       "<path d=\"M -0.703225 -0.0738568 L 0.0738596 -0.70322 \" style=\"fill:none;stroke-width:0.02;stroke-linecap:round;stroke-linejoin:miter;stroke:rgb(0%,0%,0%);stroke-opacity:1;stroke-miterlimit:10;\" transform=\"matrix(81.921821,0,0,81.921821,100.000065,84.159856)\"/>\n",
       "<path d=\"M 0.509202 0.628699 L -0.0738612 0.703227 \" style=\"fill:none;stroke-width:0.02;stroke-linecap:round;stroke-linejoin:miter;stroke:rgb(0%,0%,0%);stroke-opacity:1;stroke-miterlimit:10;\" transform=\"matrix(81.921821,0,0,81.921821,100.000065,84.159856)\"/>\n",
       "<path d=\"M -0.0738612 0.703227 L -1.017215 0.823865 \" style=\"fill:none;stroke-width:0.02;stroke-linecap:round;stroke-linejoin:miter;stroke:rgb(0%,0%,0%);stroke-opacity:1;stroke-miterlimit:10;\" transform=\"matrix(81.921821,0,0,81.921821,100.000065,84.159856)\"/>\n",
       "</g>\n",
       "</svg>"
      ],
      "text/plain": [
       "<IPython.core.display.SVG object>"
      ]
     },
     "metadata": {},
     "output_type": "display_data"
    },
    {
     "name": "stdout",
     "output_type": "stream",
     "text": [
      "bilunabirotunda (J91)\n"
     ]
    },
    {
     "data": {
      "image/svg+xml": [
       "<svg height=\"600pt\" version=\"1.1\" viewBox=\"0 0 600 600\" width=\"600pt\" xmlns=\"http://www.w3.org/2000/svg\" xmlns:xlink=\"http://www.w3.org/1999/xlink\">\n",
       "<g id=\"surface301\">\n",
       "<path d=\"M 22.069336 28.043227 L -23.071094 -27.691148 \" style=\"fill:none;stroke-width:0.05;stroke-linecap:round;stroke-linejoin:miter;stroke:rgb(0%,0%,0%);stroke-opacity:1;stroke-miterlimit:10;\" transform=\"matrix(20,0,0,20,200,200.78)\"/>\n",
       "<path d=\"M -72.908789 58.406703 L 73.005273 -59.771813 \" style=\"fill:none;stroke-width:0.05;stroke-linecap:round;stroke-linejoin:miter;stroke:rgb(0%,0%,0%);stroke-opacity:1;stroke-miterlimit:10;\" transform=\"matrix(20,0,0,20,200,200.78)\"/>\n",
       "<path d=\"M -22.069336 -28.043297 L 23.071094 27.691273 \" style=\"fill:none;stroke-width:0.05;stroke-linecap:round;stroke-linejoin:miter;stroke:rgb(0%,0%,0%);stroke-opacity:1;stroke-miterlimit:10;\" transform=\"matrix(20,0,0,20,200,200.78)\"/>\n",
       "<path d=\"M 72.908789 -58.406773 L -73.005273 59.771742 \" style=\"fill:none;stroke-width:0.05;stroke-linecap:round;stroke-linejoin:miter;stroke:rgb(0%,0%,0%);stroke-opacity:1;stroke-miterlimit:10;\" transform=\"matrix(20,0,0,20,200,200.78)\"/>\n",
       "<path d=\"M 99.279492 -12.0015 L -100.096875 13.493617 \" style=\"fill:none;stroke-width:0.05;stroke-linecap:round;stroke-linejoin:miter;stroke:rgb(0%,0%,0%);stroke-opacity:1;stroke-miterlimit:10;\" transform=\"matrix(20,0,0,20,200,200.78)\"/>\n",
       "<path d=\"M -33.664648 94.165688 L 32.695508 -95.564 \" style=\"fill:none;stroke-width:0.05;stroke-linecap:round;stroke-linejoin:miter;stroke:rgb(0%,0%,0%);stroke-opacity:1;stroke-miterlimit:10;\" transform=\"matrix(20,0,0,20,200,200.78)\"/>\n",
       "<path d=\"M -99.279492 12.001625 L 100.096875 -13.493688 \" style=\"fill:none;stroke-width:0.05;stroke-linecap:round;stroke-linejoin:miter;stroke:rgb(0%,0%,0%);stroke-opacity:1;stroke-miterlimit:10;\" transform=\"matrix(20,0,0,20,200,200.78)\"/>\n",
       "<path d=\"M 33.664648 -94.165563 L -32.695508 95.56393 \" style=\"fill:none;stroke-width:0.05;stroke-linecap:round;stroke-linejoin:miter;stroke:rgb(0%,0%,0%);stroke-opacity:1;stroke-miterlimit:10;\" transform=\"matrix(20,0,0,20,200,200.78)\"/>\n",
       "<path d=\"M 18.777344 30.709047 L -26.362695 -25.024742 \" style=\"fill:none;stroke-width:0.05;stroke-linecap:round;stroke-linejoin:miter;stroke:rgb(0%,0%,0%);stroke-opacity:1;stroke-miterlimit:10;\" transform=\"matrix(20,0,0,20,200,200.78)\"/>\n",
       "<path d=\"M -73.297656 57.92643 L 72.616406 -60.252086 \" style=\"fill:none;stroke-width:0.05;stroke-linecap:round;stroke-linejoin:miter;stroke:rgb(0%,0%,0%);stroke-opacity:1;stroke-miterlimit:10;\" transform=\"matrix(20,0,0,20,200,200.78)\"/>\n",
       "<path d=\"M -18.777344 -30.709117 L 26.362695 25.024672 \" style=\"fill:none;stroke-width:0.05;stroke-linecap:round;stroke-linejoin:miter;stroke:rgb(0%,0%,0%);stroke-opacity:1;stroke-miterlimit:10;\" transform=\"matrix(20,0,0,20,200,200.78)\"/>\n",
       "<path d=\"M 73.297656 -57.926305 L -72.616406 60.25182 \" style=\"fill:none;stroke-width:0.05;stroke-linecap:round;stroke-linejoin:miter;stroke:rgb(0%,0%,0%);stroke-opacity:1;stroke-miterlimit:10;\" transform=\"matrix(20,0,0,20,200,200.78)\"/>\n",
       "</g>\n",
       "</svg>"
      ],
      "text/plain": [
       "<IPython.core.display.SVG object>"
      ]
     },
     "execution_count": 32,
     "metadata": {},
     "output_type": "execute_result"
    }
   ],
   "source": [
    "poly = netlib[135]\n",
    "wire_frame(poly)\n",
    "sitting = sit_polyhedron(poly)\n",
    "wire_frame(sitting)\n",
    "print(sitting.name)\n",
    "xy = Plane(Point3(0, 0, 0), Vector3(0, 0, 1))\n",
    "lines = []\n",
    "for pl in sitting.planes():\n",
    "    if not pl.is_parallel(xy):\n",
    "        lines.append(pl.intersect_plane(xy))\n",
    "drawing = Drawing(600, 600)\n",
    "drawing.translate(200, 200.78)\n",
    "drawing.scale(20, 20)\n",
    "if 0:\n",
    "    drawing.grid()\n",
    "drawing.set_line_width(0.05)\n",
    "for line in lines:\n",
    "    draw_line(drawing, line)\n",
    "    drawing.stroke()\n",
    "if 0:\n",
    "    with drawing.style(rgb=(1,0,0)):\n",
    "        draw_cross(drawing, 0, 0, 1)\n",
    "drawing.display()"
   ]
  },
  {
   "cell_type": "code",
   "execution_count": null,
   "metadata": {},
   "outputs": [],
   "source": []
  }
 ],
 "metadata": {
  "kernelspec": {
   "display_name": "Python 3",
   "language": "python",
   "name": "python3"
  },
  "language_info": {
   "codemirror_mode": {
    "name": "ipython",
    "version": 3
   },
   "file_extension": ".py",
   "mimetype": "text/x-python",
   "name": "python",
   "nbconvert_exporter": "python",
   "pygments_lexer": "ipython3",
   "version": "3.7.2rc1"
  }
 },
 "nbformat": 4,
 "nbformat_minor": 2
}
