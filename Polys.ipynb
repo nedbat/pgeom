{
 "cells": [
  {
   "cell_type": "code",
   "execution_count": 5,
   "metadata": {},
   "outputs": [],
   "source": [
    "from polys import *\n",
    "from pprint import pprint as pp\n",
    "\n",
    "with open(\"netlib/icosahedron.netlib\") as dat:\n",
    "    icosa = read_netlib(dat)\n",
    "with open(\"../polyhedra/netlib_polyhedra/p3.txt\") as dat:\n",
    "    dodeca = read_netlib(dat)\n",
    "with open(\"../polyhedra/netlib_polyhedra/p0.txt\") as dat:\n",
    "    tetra = read_netlib(dat)\n",
    "netlib = []\n",
    "for i in range(142):\n",
    "    with open(f\"../polyhedra/netlib_polyhedra/p{i}.txt\") as dat:\n",
    "        netlib.append(read_netlib(dat))"
   ]
  },
  {
   "cell_type": "code",
   "execution_count": 6,
   "metadata": {},
   "outputs": [],
   "source": [
    "if 0:\n",
    "    for i in range(142):\n",
    "        with open(f\"../polyhedra/netlib_polyhedra/p{i}.txt\") as dat:\n",
    "            poly = read_netlib(dat)\n",
    "            print(f\"{i}: {poly.name}\")\n",
    "            #wire_frame(sit_polyhedron(poly), width=100, height=100, debug_origin=True)"
   ]
  },
  {
   "cell_type": "code",
   "execution_count": 7,
   "metadata": {},
   "outputs": [
    {
     "data": {
      "image/svg+xml": [
       "<svg height=\"200pt\" version=\"1.1\" viewBox=\"0 0 200 200\" width=\"200pt\" xmlns=\"http://www.w3.org/2000/svg\" xmlns:xlink=\"http://www.w3.org/1999/xlink\">\n",
       "<g id=\"surface1\">\n",
       "<path d=\"M -4.342463 -5.847633 L -5.044513 -5.300083 \" style=\"fill:none;stroke-width:0.02;stroke-linecap:round;stroke-linejoin:miter;stroke:rgb(0%,0%,0%);stroke-opacity:1;stroke-miterlimit:10;\" transform=\"matrix(60.27554,0,0,60.27554,342.314639,369.137224)\"/>\n",
       "<path d=\"M -3.469908 -5.672461 L -4.342463 -5.847633 \" style=\"fill:none;stroke-width:0.02;stroke-linecap:round;stroke-linejoin:miter;stroke:rgb(0%,0%,0%);stroke-opacity:1;stroke-miterlimit:10;\" transform=\"matrix(60.27554,0,0,60.27554,342.314639,369.137224)\"/>\n",
       "<path d=\"M -4.570323 -3.296912 L -3.697768 -3.12174 \" style=\"fill:none;stroke-width:0.02;stroke-linecap:round;stroke-linejoin:miter;stroke:rgb(0%,0%,0%);stroke-opacity:1;stroke-miterlimit:10;\" transform=\"matrix(60.27554,0,0,60.27554,342.314639,369.137224)\"/>\n",
       "<path d=\"M -3.773527 -3.440135 L -3.118268 -4.184503 \" style=\"fill:none;stroke-width:0.02;stroke-linecap:round;stroke-linejoin:miter;stroke:rgb(0%,0%,0%);stroke-opacity:1;stroke-miterlimit:10;\" transform=\"matrix(60.27554,0,0,60.27554,342.314639,369.137224)\"/>\n",
       "<path d=\"M -3.632637 -5.016554 L -3.469908 -5.672461 \" style=\"fill:none;stroke-width:0.02;stroke-linecap:round;stroke-linejoin:miter;stroke:rgb(0%,0%,0%);stroke-opacity:1;stroke-miterlimit:10;\" transform=\"matrix(60.27554,0,0,60.27554,342.314639,369.137224)\"/>\n",
       "<path d=\"M -3.697768 -3.12174 L -2.995718 -3.669291 \" style=\"fill:none;stroke-width:0.02;stroke-linecap:round;stroke-linejoin:miter;stroke:rgb(0%,0%,0%);stroke-opacity:1;stroke-miterlimit:10;\" transform=\"matrix(60.27554,0,0,60.27554,342.314639,369.137224)\"/>\n",
       "<path d=\"M -3.469908 -5.672461 L -2.854894 -5.24571 \" style=\"fill:none;stroke-width:0.02;stroke-linecap:round;stroke-linejoin:miter;stroke:rgb(0%,0%,0%);stroke-opacity:1;stroke-miterlimit:10;\" transform=\"matrix(60.27554,0,0,60.27554,342.314639,369.137224)\"/>\n",
       "<path d=\"M -5.402634 -4.643268 L -5.185337 -3.723663 \" style=\"fill:none;stroke-width:0.02;stroke-linecap:round;stroke-linejoin:miter;stroke:rgb(0%,0%,0%);stroke-opacity:1;stroke-miterlimit:10;\" transform=\"matrix(60.27554,0,0,60.27554,342.314639,369.137224)\"/>\n",
       "<path d=\"M -2.637597 -4.326105 L -2.854894 -5.24571 \" style=\"fill:none;stroke-width:0.02;stroke-linecap:round;stroke-linejoin:miter;stroke:rgb(0%,0%,0%);stroke-opacity:1;stroke-miterlimit:10;\" transform=\"matrix(60.27554,0,0,60.27554,342.314639,369.137224)\"/>\n",
       "<path d=\"M -3.697768 -3.12174 L -3.773527 -3.440135 \" style=\"fill:none;stroke-width:0.02;stroke-linecap:round;stroke-linejoin:miter;stroke:rgb(0%,0%,0%);stroke-opacity:1;stroke-miterlimit:10;\" transform=\"matrix(60.27554,0,0,60.27554,342.314639,369.137224)\"/>\n",
       "<path d=\"M -3.773527 -3.440135 L -4.692872 -3.812124 \" style=\"fill:none;stroke-width:0.02;stroke-linecap:round;stroke-linejoin:miter;stroke:rgb(0%,0%,0%);stroke-opacity:1;stroke-miterlimit:10;\" transform=\"matrix(60.27554,0,0,60.27554,342.314639,369.137224)\"/>\n",
       "<path d=\"M -3.632637 -5.016554 L -4.605837 -4.786426 \" style=\"fill:none;stroke-width:0.02;stroke-linecap:round;stroke-linejoin:miter;stroke:rgb(0%,0%,0%);stroke-opacity:1;stroke-miterlimit:10;\" transform=\"matrix(60.27554,0,0,60.27554,342.314639,369.137224)\"/>\n",
       "<path d=\"M -4.266705 -5.529239 L -3.347359 -5.157249 \" style=\"fill:none;stroke-width:0.02;stroke-linecap:round;stroke-linejoin:miter;stroke:rgb(0%,0%,0%);stroke-opacity:1;stroke-miterlimit:10;\" transform=\"matrix(60.27554,0,0,60.27554,342.314639,369.137224)\"/>\n",
       "<path d=\"M -3.434394 -4.182947 L -4.407594 -3.952819 \" style=\"fill:none;stroke-width:0.02;stroke-linecap:round;stroke-linejoin:miter;stroke:rgb(0%,0%,0%);stroke-opacity:1;stroke-miterlimit:10;\" transform=\"matrix(60.27554,0,0,60.27554,342.314639,369.137224)\"/>\n",
       "<path d=\"M -3.434394 -4.182947 L -2.995718 -3.669291 \" style=\"fill:none;stroke-width:0.02;stroke-linecap:round;stroke-linejoin:miter;stroke:rgb(0%,0%,0%);stroke-opacity:1;stroke-miterlimit:10;\" transform=\"matrix(60.27554,0,0,60.27554,342.314639,369.137224)\"/>\n",
       "<path d=\"M -4.605837 -4.786426 L -5.044513 -5.300083 \" style=\"fill:none;stroke-width:0.02;stroke-linecap:round;stroke-linejoin:miter;stroke:rgb(0%,0%,0%);stroke-opacity:1;stroke-miterlimit:10;\" transform=\"matrix(60.27554,0,0,60.27554,342.314639,369.137224)\"/>\n",
       "<path d=\"M -5.044513 -5.300083 L -5.402634 -4.643268 \" style=\"fill:none;stroke-width:0.02;stroke-linecap:round;stroke-linejoin:miter;stroke:rgb(0%,0%,0%);stroke-opacity:1;stroke-miterlimit:10;\" transform=\"matrix(60.27554,0,0,60.27554,342.314639,369.137224)\"/>\n",
       "<path d=\"M -4.342463 -5.847633 L -4.266705 -5.529239 \" style=\"fill:none;stroke-width:0.02;stroke-linecap:round;stroke-linejoin:miter;stroke:rgb(0%,0%,0%);stroke-opacity:1;stroke-miterlimit:10;\" transform=\"matrix(60.27554,0,0,60.27554,342.314639,369.137224)\"/>\n",
       "<path d=\"M -4.921964 -4.784871 L -4.407594 -3.952819 \" style=\"fill:none;stroke-width:0.02;stroke-linecap:round;stroke-linejoin:miter;stroke:rgb(0%,0%,0%);stroke-opacity:1;stroke-miterlimit:10;\" transform=\"matrix(60.27554,0,0,60.27554,342.314639,369.137224)\"/>\n",
       "<path d=\"M -2.995718 -3.669291 L -2.637597 -4.326105 \" style=\"fill:none;stroke-width:0.02;stroke-linecap:round;stroke-linejoin:miter;stroke:rgb(0%,0%,0%);stroke-opacity:1;stroke-miterlimit:10;\" transform=\"matrix(60.27554,0,0,60.27554,342.314639,369.137224)\"/>\n",
       "<path d=\"M -4.921964 -4.784871 L -5.402634 -4.643268 \" style=\"fill:none;stroke-width:0.02;stroke-linecap:round;stroke-linejoin:miter;stroke:rgb(0%,0%,0%);stroke-opacity:1;stroke-miterlimit:10;\" transform=\"matrix(60.27554,0,0,60.27554,342.314639,369.137224)\"/>\n",
       "<path d=\"M -3.118268 -4.184503 L -3.632637 -5.016554 \" style=\"fill:none;stroke-width:0.02;stroke-linecap:round;stroke-linejoin:miter;stroke:rgb(0%,0%,0%);stroke-opacity:1;stroke-miterlimit:10;\" transform=\"matrix(60.27554,0,0,60.27554,342.314639,369.137224)\"/>\n",
       "<path d=\"M -4.692872 -3.812124 L -4.605837 -4.786426 \" style=\"fill:none;stroke-width:0.02;stroke-linecap:round;stroke-linejoin:miter;stroke:rgb(0%,0%,0%);stroke-opacity:1;stroke-miterlimit:10;\" transform=\"matrix(60.27554,0,0,60.27554,342.314639,369.137224)\"/>\n",
       "<path d=\"M -3.118268 -4.184503 L -2.637597 -4.326105 \" style=\"fill:none;stroke-width:0.02;stroke-linecap:round;stroke-linejoin:miter;stroke:rgb(0%,0%,0%);stroke-opacity:1;stroke-miterlimit:10;\" transform=\"matrix(60.27554,0,0,60.27554,342.314639,369.137224)\"/>\n",
       "<path d=\"M -2.854894 -5.24571 L -3.347359 -5.157249 \" style=\"fill:none;stroke-width:0.02;stroke-linecap:round;stroke-linejoin:miter;stroke:rgb(0%,0%,0%);stroke-opacity:1;stroke-miterlimit:10;\" transform=\"matrix(60.27554,0,0,60.27554,342.314639,369.137224)\"/>\n",
       "<path d=\"M -5.185337 -3.723663 L -4.570323 -3.296912 \" style=\"fill:none;stroke-width:0.02;stroke-linecap:round;stroke-linejoin:miter;stroke:rgb(0%,0%,0%);stroke-opacity:1;stroke-miterlimit:10;\" transform=\"matrix(60.27554,0,0,60.27554,342.314639,369.137224)\"/>\n",
       "<path d=\"M -3.347359 -5.157249 L -3.434394 -4.182947 \" style=\"fill:none;stroke-width:0.02;stroke-linecap:round;stroke-linejoin:miter;stroke:rgb(0%,0%,0%);stroke-opacity:1;stroke-miterlimit:10;\" transform=\"matrix(60.27554,0,0,60.27554,342.314639,369.137224)\"/>\n",
       "<path d=\"M -4.266705 -5.529239 L -4.921964 -4.784871 \" style=\"fill:none;stroke-width:0.02;stroke-linecap:round;stroke-linejoin:miter;stroke:rgb(0%,0%,0%);stroke-opacity:1;stroke-miterlimit:10;\" transform=\"matrix(60.27554,0,0,60.27554,342.314639,369.137224)\"/>\n",
       "<path d=\"M -5.185337 -3.723663 L -4.692872 -3.812124 \" style=\"fill:none;stroke-width:0.02;stroke-linecap:round;stroke-linejoin:miter;stroke:rgb(0%,0%,0%);stroke-opacity:1;stroke-miterlimit:10;\" transform=\"matrix(60.27554,0,0,60.27554,342.314639,369.137224)\"/>\n",
       "<path d=\"M -4.407594 -3.952819 L -4.570323 -3.296912 \" style=\"fill:none;stroke-width:0.02;stroke-linecap:round;stroke-linejoin:miter;stroke:rgb(0%,0%,0%);stroke-opacity:1;stroke-miterlimit:10;\" transform=\"matrix(60.27554,0,0,60.27554,342.314639,369.137224)\"/>\n",
       "</g>\n",
       "</svg>"
      ],
      "text/plain": [
       "<IPython.core.display.SVG object>"
      ]
     },
     "metadata": {},
     "output_type": "display_data"
    },
    {
     "data": {
      "image/svg+xml": [
       "<svg height=\"400pt\" version=\"1.1\" viewBox=\"0 0 400 400\" width=\"400pt\" xmlns=\"http://www.w3.org/2000/svg\" xmlns:xlink=\"http://www.w3.org/1999/xlink\">\n",
       "<g id=\"surface6\">\n",
       "<path d=\"M -89.344727 -4.24043 L 90.293164 2.900586 \" style=\"fill:none;stroke-width:0.05;stroke-linecap:round;stroke-linejoin:miter;stroke:rgb(0%,0%,0%);stroke-opacity:1;stroke-miterlimit:10;\" transform=\"matrix(20,0,0,20,200,200)\"/>\n",
       "<path d=\"M -23.576172 -86.282227 L 25.143555 86.770313 \" style=\"fill:none;stroke-width:0.05;stroke-linecap:round;stroke-linejoin:miter;stroke:rgb(0%,0%,0%);stroke-opacity:1;stroke-miterlimit:10;\" transform=\"matrix(20,0,0,20,200,200)\"/>\n",
       "<path d=\"M 74.773828 -49.084961 L -74.753711 50.726367 \" style=\"fill:none;stroke-width:0.05;stroke-linecap:round;stroke-linejoin:miter;stroke:rgb(0%,0%,0%);stroke-opacity:1;stroke-miterlimit:10;\" transform=\"matrix(20,0,0,20,200,200)\"/>\n",
       "<path d=\"M 69.789062 55.946094 L -71.34375 -55.419531 \" style=\"fill:none;stroke-width:0.05;stroke-linecap:round;stroke-linejoin:miter;stroke:rgb(0%,0%,0%);stroke-opacity:1;stroke-miterlimit:10;\" transform=\"matrix(20,0,0,20,200,200)\"/>\n",
       "<path d=\"M -31.641797 83.661523 L 30.660742 -84.977539 \" style=\"fill:none;stroke-width:0.05;stroke-linecap:round;stroke-linejoin:miter;stroke:rgb(0%,0%,0%);stroke-opacity:1;stroke-miterlimit:10;\" transform=\"matrix(20,0,0,20,200,200)\"/>\n",
       "<path d=\"M 22.504492 86.583984 L -26.21543 -86.468555 \" style=\"fill:none;stroke-width:0.05;stroke-linecap:round;stroke-linejoin:miter;stroke:rgb(0%,0%,0%);stroke-opacity:1;stroke-miterlimit:10;\" transform=\"matrix(20,0,0,20,200,200)\"/>\n",
       "<path d=\"M 89.300586 5.35293 L -90.3375 -1.787891 \" style=\"fill:none;stroke-width:0.05;stroke-linecap:round;stroke-linejoin:miter;stroke:rgb(0%,0%,0%);stroke-opacity:1;stroke-miterlimit:10;\" transform=\"matrix(20,0,0,20,200,200)\"/>\n",
       "<path d=\"M 32.686328 -83.275781 L -29.616211 85.363477 \" style=\"fill:none;stroke-width:0.05;stroke-linecap:round;stroke-linejoin:miter;stroke:rgb(0%,0%,0%);stroke-opacity:1;stroke-miterlimit:10;\" transform=\"matrix(20,0,0,20,200,200)\"/>\n",
       "<path d=\"M -69.099219 -56.820117 L 72.033594 54.545508 \" style=\"fill:none;stroke-width:0.05;stroke-linecap:round;stroke-linejoin:miter;stroke:rgb(0%,0%,0%);stroke-opacity:1;stroke-miterlimit:10;\" transform=\"matrix(20,0,0,20,200,200)\"/>\n",
       "<path d=\"M -75.391992 48.158984 L 74.135352 -51.652539 \" style=\"fill:none;stroke-width:0.05;stroke-linecap:round;stroke-linejoin:miter;stroke:rgb(0%,0%,0%);stroke-opacity:1;stroke-miterlimit:10;\" transform=\"matrix(20,0,0,20,200,200)\"/>\n",
       "</g>\n",
       "</svg>"
      ],
      "text/plain": [
       "<IPython.core.display.SVG object>"
      ]
     },
     "metadata": {},
     "output_type": "display_data"
    }
   ],
   "source": [
    "poly = netlib[3]\n",
    "wire_frame(poly)\n",
    "stellation_diagram(poly)"
   ]
  },
  {
   "cell_type": "code",
   "execution_count": 8,
   "metadata": {},
   "outputs": [],
   "source": [
    "if 0:\n",
    "    poly = netlib[135]\n",
    "    for i in range(len(poly.faces)):\n",
    "        stellation_diagram(poly, i)"
   ]
  },
  {
   "cell_type": "code",
   "execution_count": 9,
   "metadata": {},
   "outputs": [],
   "source": [
    "from IPython.display import HTML"
   ]
  },
  {
   "cell_type": "code",
   "execution_count": 10,
   "metadata": {},
   "outputs": [
    {
     "data": {
      "text/html": [
       "\n",
       "        <script type=\"text/javascript\" src=\"https://examples.x3dom.org/example/x3dom.js\"></script>\n",
       "        <x3d xmlns=\"http://www.x3dom.org/x3dom\" showStat=\"false\" showLog=\"false\" x=\"0px\" y=\"0px\" width=\"600px\" height=\"600px\" altImg=\"helloX3D-alt.png\">\n",
       "          <scene>\n",
       "            <viewpoint position='0 0 5' ></viewpoint>\n",
       "              <shape>\n",
       "                <appearance>\n",
       "                    <material\n",
       "                        diffusecolor='0.903 0.394 0.309'\n",
       "                        shininess=\"0.3\"\n",
       "                        specularcolor=\".8 .8 .8\"\n",
       "                        transparency='0.1'\n",
       "                        >\n",
       "                    </material>\n",
       "                </appearance>\n",
       "                <indexedfaceset ccw=\"true\" colorindex=\"\" colorpervertex=\"false\" convex=\"true\" coordindex=\"0 1 2 3 -1 4 5 6 -1 7 8 9 -1 10 11 12 -1 13 14 15 -1 16 17 18 19 20 -1 21 22 23 24 25 -1 26 27 28 29 30 -1 31 32 33 34 35 -1 36 37 38 -1 39 40 41 -1 42 43 44 -1 45 46 47 -1 48 49 50 51 -1\" is=\"x3d\" lit=\"true\" normalindex=\"\" normalpervertex=\"true\" normalupdatemode=\"fast\" solid=\"false\" texcoordindex=\"\" usegeocache=\"true\">\n",
       "                    <coordinate is=\"x3d\" point=\"1.0690 0.0820 -0.0716, 0.5541 -0.0438 -0.9196, 0.0353 0.7893 -0.7282, 0.5501 0.9152 0.1198, 0.5541 -0.0438 -0.9196, 1.0690 0.0820 -0.0716, 1.0204 -0.8214 -0.4977, 0.0353 0.7893 -0.7282, 0.5541 -0.0438 -0.9196, -0.4165 -0.1018 -0.6860, 0.5501 0.9152 0.1198, 0.0353 0.7893 -0.7282, -0.3379 1.3599 0.0034, 1.0690 0.0820 -0.0716, 0.5501 0.9152 0.1198, 0.4165 0.1018 0.6860, 1.0204 -0.8214 -0.4977, 1.0690 0.0820 -0.0716, 0.4165 0.1018 0.6860, -0.0353 -0.7893 0.7282, 0.3379 -1.3599 -0.0034, 0.5541 -0.0438 -0.9196, 1.0204 -0.8214 -0.4977, 0.3379 -1.3599 -0.0034, -0.5501 -0.9152 -0.1198, -0.4165 -0.1018 -0.6860, -0.3379 1.3599 0.0034, 0.0353 0.7893 -0.7282, -0.4165 -0.1018 -0.6860, -1.0690 -0.0820 0.0716, -1.0204 0.8214 0.4977, 0.5501 0.9152 0.1198, -0.3379 1.3599 0.0034, -1.0204 0.8214 0.4977, -0.5541 0.0438 0.9196, 0.4165 0.1018 0.6860, -0.5501 -0.9152 -0.1198, 0.3379 -1.3599 -0.0034, -0.0353 -0.7893 0.7282, -0.4165 -0.1018 -0.6860, -0.5501 -0.9152 -0.1198, -1.0690 -0.0820 0.0716, -0.5541 0.0438 0.9196, -1.0204 0.8214 0.4977, -1.0690 -0.0820 0.0716, 0.4165 0.1018 0.6860, -0.5541 0.0438 0.9196, -0.0353 -0.7893 0.7282, -0.0353 -0.7893 0.7282, -0.5541 0.0438 0.9196, -1.0690 -0.0820 0.0716, -0.5501 -0.9152 -0.1198\" />\n",
       "                </indexedfaceset>\n",
       "             </shape>\n",
       "             <shape>\n",
       "                <indexedlineset ccw=\"true\" colorindex=\"\" colorpervertex=\"false\" coordindex=\"0 1 -1 1 2 -1 2 3 -1 3 0 -1 5 6 -1 6 4 -1 8 9 -1 9 7 -1 11 12 -1 12 10 -1 14 15 -1 15 13 -1 18 19 -1 19 20 -1 20 16 -1 23 24 -1 24 25 -1 28 29 -1 29 30 -1 30 26 -1 33 34 -1 34 35 -1 38 36 -1 40 41 -1 44 42 -1 46 47 -1\" is=\"x3d\" solid=\"true\" lit=\"true\">\n",
       "                    <coordinate is=\"x3d\" point=\"1.0690 0.0820 -0.0716, 0.5541 -0.0438 -0.9196, 0.0353 0.7893 -0.7282, 0.5501 0.9152 0.1198, 0.5541 -0.0438 -0.9196, 1.0690 0.0820 -0.0716, 1.0204 -0.8214 -0.4977, 0.0353 0.7893 -0.7282, 0.5541 -0.0438 -0.9196, -0.4165 -0.1018 -0.6860, 0.5501 0.9152 0.1198, 0.0353 0.7893 -0.7282, -0.3379 1.3599 0.0034, 1.0690 0.0820 -0.0716, 0.5501 0.9152 0.1198, 0.4165 0.1018 0.6860, 1.0204 -0.8214 -0.4977, 1.0690 0.0820 -0.0716, 0.4165 0.1018 0.6860, -0.0353 -0.7893 0.7282, 0.3379 -1.3599 -0.0034, 0.5541 -0.0438 -0.9196, 1.0204 -0.8214 -0.4977, 0.3379 -1.3599 -0.0034, -0.5501 -0.9152 -0.1198, -0.4165 -0.1018 -0.6860, -0.3379 1.3599 0.0034, 0.0353 0.7893 -0.7282, -0.4165 -0.1018 -0.6860, -1.0690 -0.0820 0.0716, -1.0204 0.8214 0.4977, 0.5501 0.9152 0.1198, -0.3379 1.3599 0.0034, -1.0204 0.8214 0.4977, -0.5541 0.0438 0.9196, 0.4165 0.1018 0.6860, -0.5501 -0.9152 -0.1198, 0.3379 -1.3599 -0.0034, -0.0353 -0.7893 0.7282, -0.4165 -0.1018 -0.6860, -0.5501 -0.9152 -0.1198, -1.0690 -0.0820 0.0716, -0.5541 0.0438 0.9196, -1.0204 0.8214 0.4977, -1.0690 -0.0820 0.0716, 0.4165 0.1018 0.6860, -0.5541 0.0438 0.9196, -0.0353 -0.7893 0.7282, -0.0353 -0.7893 0.7282, -0.5541 0.0438 0.9196, -1.0690 -0.0820 0.0716, -0.5501 -0.9152 -0.1198\" />\n",
       "                </indexedlineset>\n",
       "             </shape>\n",
       "          </scene>\n",
       "        </x3d>\n",
       "    "
      ],
      "text/plain": [
       "<IPython.core.display.HTML object>"
      ]
     },
     "execution_count": 10,
     "metadata": {},
     "output_type": "execute_result"
    }
   ],
   "source": [
    "ico = netlib[4]\n",
    "HTML(x3dom_html(center_polyhedron(netlib[135])))"
   ]
  },
  {
   "cell_type": "code",
   "execution_count": null,
   "metadata": {},
   "outputs": [],
   "source": []
  }
 ],
 "metadata": {
  "kernelspec": {
   "display_name": "Python 3",
   "language": "python",
   "name": "python3"
  },
  "language_info": {
   "codemirror_mode": {
    "name": "ipython",
    "version": 3
   },
   "file_extension": ".py",
   "mimetype": "text/x-python",
   "name": "python",
   "nbconvert_exporter": "python",
   "pygments_lexer": "ipython3",
   "version": "3.7.2rc1"
  }
 },
 "nbformat": 4,
 "nbformat_minor": 2
}
